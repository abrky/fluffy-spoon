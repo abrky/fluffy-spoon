{
 "cells": [
  {
   "cell_type": "markdown",
   "id": "495abc64",
   "metadata": {},
   "source": [
    "# İTÜ MINDSET INSTITUTE FINAL PROJECT\n",
    "    \n",
    "    AHMET BERKAY GÜLTEKİN\n",
    "    8 th Term Data Science Program\n",
    "    14.08.2021 - 25.10.2021\n",
    "    \n",
    "## INFORMATION ABOUT DATA\n",
    "\n",
    "## 1. Problem Definition\n",
    "\n",
    "A University made its on campus placement records public for the world to see. The data is from the years 2013 and 2014.\n",
    "The following is the college placements data compiled over 2 years. Use this data to predict and analyse whether a student gets placed, based on his/her background.\n",
    "\n",
    "## 2. Data\n",
    "\n",
    "Data Set can be found on https://www.kaggle.com/tejashvi14/engineering-placements-prediction\n",
    "\n",
    "## 3. Features\n",
    "\n",
    "Age = Age At The Time Of Final Year\n",
    "\n",
    "Gender = Gender Of Candidate\n",
    "\n",
    "Stream = Engineering Stream That The Candidate Belongs To\n",
    "\n",
    "Internships = Number Of Internships Undertaken During The Course Of Studies, Not Necessarily Related To College Studies Or Stream\n",
    "\n",
    "CGPA = CGPA Till 6th Semester\n",
    "\n",
    "Hostel = Whether Student Lives In College Accomodation\n",
    "\n",
    "History Of Backlogs = Whether Student Ever Had Any Backlogs In Any Subjects\n",
    "\n",
    "PlacedOrNot = Target Variable"
   ]
  },
  {
   "cell_type": "markdown",
   "id": "cf4a6a45",
   "metadata": {},
   "source": [
    "## 4. Importing Necessary Libraries & Exploratory Data Analysis"
   ]
  },
  {
   "cell_type": "code",
   "execution_count": 1,
   "id": "b6b0df2b",
   "metadata": {
    "executionInfo": {
     "elapsed": 867,
     "status": "ok",
     "timestamp": 1634502113807,
     "user": {
      "displayName": "Berkay Gültekin",
      "photoUrl": "https://lh3.googleusercontent.com/a-/AOh14GgNp_dyh65Yt59sZu-fcfHFoxO1b1Tl7vOS9GcMrpU=s64",
      "userId": "13224636453414803854"
     },
     "user_tz": -180
    },
    "id": "b6b0df2b"
   },
   "outputs": [],
   "source": [
    "import pandas as pd\n",
    "import numpy as np\n",
    "import seaborn as sns\n",
    "import matplotlib.pyplot as plt"
   ]
  },
  {
   "cell_type": "code",
   "execution_count": 2,
   "id": "974ccefc",
   "metadata": {
    "colab": {
     "base_uri": "https://localhost:8080/",
     "height": 203
    },
    "executionInfo": {
     "elapsed": 460,
     "status": "ok",
     "timestamp": 1634502117793,
     "user": {
      "displayName": "Berkay Gültekin",
      "photoUrl": "https://lh3.googleusercontent.com/a-/AOh14GgNp_dyh65Yt59sZu-fcfHFoxO1b1Tl7vOS9GcMrpU=s64",
      "userId": "13224636453414803854"
     },
     "user_tz": -180
    },
    "id": "974ccefc",
    "outputId": "60643477-a60b-488e-b362-1cad60eade1a"
   },
   "outputs": [
    {
     "data": {
      "text/html": [
       "<div>\n",
       "<style scoped>\n",
       "    .dataframe tbody tr th:only-of-type {\n",
       "        vertical-align: middle;\n",
       "    }\n",
       "\n",
       "    .dataframe tbody tr th {\n",
       "        vertical-align: top;\n",
       "    }\n",
       "\n",
       "    .dataframe thead th {\n",
       "        text-align: right;\n",
       "    }\n",
       "</style>\n",
       "<table border=\"1\" class=\"dataframe\">\n",
       "  <thead>\n",
       "    <tr style=\"text-align: right;\">\n",
       "      <th></th>\n",
       "      <th>Age</th>\n",
       "      <th>Gender</th>\n",
       "      <th>Stream</th>\n",
       "      <th>Internships</th>\n",
       "      <th>CGPA</th>\n",
       "      <th>Hostel</th>\n",
       "      <th>HistoryOfBacklogs</th>\n",
       "      <th>PlacedOrNot</th>\n",
       "    </tr>\n",
       "  </thead>\n",
       "  <tbody>\n",
       "    <tr>\n",
       "      <th>0</th>\n",
       "      <td>22</td>\n",
       "      <td>Male</td>\n",
       "      <td>Electronics And Communication</td>\n",
       "      <td>1</td>\n",
       "      <td>8</td>\n",
       "      <td>1</td>\n",
       "      <td>1</td>\n",
       "      <td>1</td>\n",
       "    </tr>\n",
       "    <tr>\n",
       "      <th>1</th>\n",
       "      <td>21</td>\n",
       "      <td>Female</td>\n",
       "      <td>Computer Science</td>\n",
       "      <td>0</td>\n",
       "      <td>7</td>\n",
       "      <td>1</td>\n",
       "      <td>1</td>\n",
       "      <td>1</td>\n",
       "    </tr>\n",
       "    <tr>\n",
       "      <th>2</th>\n",
       "      <td>22</td>\n",
       "      <td>Female</td>\n",
       "      <td>Information Technology</td>\n",
       "      <td>1</td>\n",
       "      <td>6</td>\n",
       "      <td>0</td>\n",
       "      <td>0</td>\n",
       "      <td>1</td>\n",
       "    </tr>\n",
       "    <tr>\n",
       "      <th>3</th>\n",
       "      <td>21</td>\n",
       "      <td>Male</td>\n",
       "      <td>Information Technology</td>\n",
       "      <td>0</td>\n",
       "      <td>8</td>\n",
       "      <td>0</td>\n",
       "      <td>1</td>\n",
       "      <td>1</td>\n",
       "    </tr>\n",
       "    <tr>\n",
       "      <th>4</th>\n",
       "      <td>22</td>\n",
       "      <td>Male</td>\n",
       "      <td>Mechanical</td>\n",
       "      <td>0</td>\n",
       "      <td>8</td>\n",
       "      <td>1</td>\n",
       "      <td>0</td>\n",
       "      <td>1</td>\n",
       "    </tr>\n",
       "  </tbody>\n",
       "</table>\n",
       "</div>"
      ],
      "text/plain": [
       "   Age  Gender                         Stream  Internships  CGPA  Hostel  \\\n",
       "0   22    Male  Electronics And Communication            1     8       1   \n",
       "1   21  Female               Computer Science            0     7       1   \n",
       "2   22  Female         Information Technology            1     6       0   \n",
       "3   21    Male         Information Technology            0     8       0   \n",
       "4   22    Male                     Mechanical            0     8       1   \n",
       "\n",
       "   HistoryOfBacklogs  PlacedOrNot  \n",
       "0                  1            1  \n",
       "1                  1            1  \n",
       "2                  0            1  \n",
       "3                  1            1  \n",
       "4                  0            1  "
      ]
     },
     "execution_count": 2,
     "metadata": {},
     "output_type": "execute_result"
    }
   ],
   "source": [
    "df = pd.read_csv(\"collegePlace.csv\"); df.head()"
   ]
  },
  {
   "cell_type": "code",
   "execution_count": 3,
   "id": "ec877a60",
   "metadata": {
    "colab": {
     "base_uri": "https://localhost:8080/"
    },
    "executionInfo": {
     "elapsed": 321,
     "status": "ok",
     "timestamp": 1634502121113,
     "user": {
      "displayName": "Berkay Gültekin",
      "photoUrl": "https://lh3.googleusercontent.com/a-/AOh14GgNp_dyh65Yt59sZu-fcfHFoxO1b1Tl7vOS9GcMrpU=s64",
      "userId": "13224636453414803854"
     },
     "user_tz": -180
    },
    "id": "ec877a60",
    "outputId": "c8c77349-c616-4c4c-ba90-5148c9c64e4b",
    "scrolled": false
   },
   "outputs": [
    {
     "name": "stdout",
     "output_type": "stream",
     "text": [
      "<class 'pandas.core.frame.DataFrame'>\n",
      "RangeIndex: 3566 entries, 0 to 3565\n",
      "Data columns (total 8 columns):\n",
      " #   Column             Non-Null Count  Dtype \n",
      "---  ------             --------------  ----- \n",
      " 0   Age                3566 non-null   int64 \n",
      " 1   Gender             3566 non-null   object\n",
      " 2   Stream             3566 non-null   object\n",
      " 3   Internships        3566 non-null   int64 \n",
      " 4   CGPA               3566 non-null   int64 \n",
      " 5   Hostel             3566 non-null   int64 \n",
      " 6   HistoryOfBacklogs  3566 non-null   int64 \n",
      " 7   PlacedOrNot        3566 non-null   int64 \n",
      "dtypes: int64(6), object(2)\n",
      "memory usage: 223.0+ KB\n"
     ]
    }
   ],
   "source": [
    "df.info()"
   ]
  },
  {
   "cell_type": "markdown",
   "id": "08aeec6d",
   "metadata": {},
   "source": [
    "**As it is seen above, we only have 2 categorical variables. Gender & Stream. Now let's check whether our data has null variable or not. Then check statistical information.**"
   ]
  },
  {
   "cell_type": "code",
   "execution_count": 4,
   "id": "50e2eabf",
   "metadata": {
    "colab": {
     "base_uri": "https://localhost:8080/"
    },
    "executionInfo": {
     "elapsed": 419,
     "status": "ok",
     "timestamp": 1634502123810,
     "user": {
      "displayName": "Berkay Gültekin",
      "photoUrl": "https://lh3.googleusercontent.com/a-/AOh14GgNp_dyh65Yt59sZu-fcfHFoxO1b1Tl7vOS9GcMrpU=s64",
      "userId": "13224636453414803854"
     },
     "user_tz": -180
    },
    "id": "50e2eabf",
    "outputId": "849689d8-58d8-40e9-bef8-0598e97a9375"
   },
   "outputs": [
    {
     "data": {
      "text/plain": [
       "Age                  0\n",
       "Gender               0\n",
       "Stream               0\n",
       "Internships          0\n",
       "CGPA                 0\n",
       "Hostel               0\n",
       "HistoryOfBacklogs    0\n",
       "PlacedOrNot          0\n",
       "dtype: int64"
      ]
     },
     "execution_count": 4,
     "metadata": {},
     "output_type": "execute_result"
    }
   ],
   "source": [
    "df.isnull().sum()"
   ]
  },
  {
   "cell_type": "code",
   "execution_count": 5,
   "id": "6d5fd62e",
   "metadata": {
    "colab": {
     "base_uri": "https://localhost:8080/"
    },
    "executionInfo": {
     "elapsed": 6,
     "status": "ok",
     "timestamp": 1634502125716,
     "user": {
      "displayName": "Berkay Gültekin",
      "photoUrl": "https://lh3.googleusercontent.com/a-/AOh14GgNp_dyh65Yt59sZu-fcfHFoxO1b1Tl7vOS9GcMrpU=s64",
      "userId": "13224636453414803854"
     },
     "user_tz": -180
    },
    "id": "6d5fd62e",
    "outputId": "51fe2944-a7a4-4285-dd7e-f87c891005ed"
   },
   "outputs": [
    {
     "data": {
      "text/plain": [
       "Male      2965\n",
       "Female     601\n",
       "Name: Gender, dtype: int64"
      ]
     },
     "execution_count": 5,
     "metadata": {},
     "output_type": "execute_result"
    }
   ],
   "source": [
    "df.Gender.value_counts()"
   ]
  },
  {
   "cell_type": "code",
   "execution_count": 6,
   "id": "27f0f92d",
   "metadata": {
    "colab": {
     "base_uri": "https://localhost:8080/",
     "height": 295
    },
    "executionInfo": {
     "elapsed": 329,
     "status": "ok",
     "timestamp": 1634502127919,
     "user": {
      "displayName": "Berkay Gültekin",
      "photoUrl": "https://lh3.googleusercontent.com/a-/AOh14GgNp_dyh65Yt59sZu-fcfHFoxO1b1Tl7vOS9GcMrpU=s64",
      "userId": "13224636453414803854"
     },
     "user_tz": -180
    },
    "id": "27f0f92d",
    "outputId": "49663006-3605-4237-a372-d696554e3eda"
   },
   "outputs": [
    {
     "data": {
      "text/html": [
       "<div>\n",
       "<style scoped>\n",
       "    .dataframe tbody tr th:only-of-type {\n",
       "        vertical-align: middle;\n",
       "    }\n",
       "\n",
       "    .dataframe tbody tr th {\n",
       "        vertical-align: top;\n",
       "    }\n",
       "\n",
       "    .dataframe thead th {\n",
       "        text-align: right;\n",
       "    }\n",
       "</style>\n",
       "<table border=\"1\" class=\"dataframe\">\n",
       "  <thead>\n",
       "    <tr style=\"text-align: right;\">\n",
       "      <th></th>\n",
       "      <th>Age</th>\n",
       "      <th>Internships</th>\n",
       "      <th>CGPA</th>\n",
       "      <th>Hostel</th>\n",
       "      <th>HistoryOfBacklogs</th>\n",
       "      <th>PlacedOrNot</th>\n",
       "    </tr>\n",
       "  </thead>\n",
       "  <tbody>\n",
       "    <tr>\n",
       "      <th>count</th>\n",
       "      <td>3566.000000</td>\n",
       "      <td>3566.000000</td>\n",
       "      <td>3566.000000</td>\n",
       "      <td>3566.000000</td>\n",
       "      <td>3566.000000</td>\n",
       "      <td>3566.000000</td>\n",
       "    </tr>\n",
       "    <tr>\n",
       "      <th>mean</th>\n",
       "      <td>21.555244</td>\n",
       "      <td>0.724341</td>\n",
       "      <td>7.114975</td>\n",
       "      <td>0.273135</td>\n",
       "      <td>0.192653</td>\n",
       "      <td>0.570107</td>\n",
       "    </tr>\n",
       "    <tr>\n",
       "      <th>std</th>\n",
       "      <td>1.324557</td>\n",
       "      <td>0.741483</td>\n",
       "      <td>0.971236</td>\n",
       "      <td>0.445632</td>\n",
       "      <td>0.394438</td>\n",
       "      <td>0.495130</td>\n",
       "    </tr>\n",
       "    <tr>\n",
       "      <th>min</th>\n",
       "      <td>19.000000</td>\n",
       "      <td>0.000000</td>\n",
       "      <td>5.000000</td>\n",
       "      <td>0.000000</td>\n",
       "      <td>0.000000</td>\n",
       "      <td>0.000000</td>\n",
       "    </tr>\n",
       "    <tr>\n",
       "      <th>25%</th>\n",
       "      <td>21.000000</td>\n",
       "      <td>0.000000</td>\n",
       "      <td>6.000000</td>\n",
       "      <td>0.000000</td>\n",
       "      <td>0.000000</td>\n",
       "      <td>0.000000</td>\n",
       "    </tr>\n",
       "    <tr>\n",
       "      <th>50%</th>\n",
       "      <td>21.000000</td>\n",
       "      <td>1.000000</td>\n",
       "      <td>7.000000</td>\n",
       "      <td>0.000000</td>\n",
       "      <td>0.000000</td>\n",
       "      <td>1.000000</td>\n",
       "    </tr>\n",
       "    <tr>\n",
       "      <th>75%</th>\n",
       "      <td>22.000000</td>\n",
       "      <td>1.000000</td>\n",
       "      <td>8.000000</td>\n",
       "      <td>1.000000</td>\n",
       "      <td>0.000000</td>\n",
       "      <td>1.000000</td>\n",
       "    </tr>\n",
       "    <tr>\n",
       "      <th>max</th>\n",
       "      <td>30.000000</td>\n",
       "      <td>3.000000</td>\n",
       "      <td>9.000000</td>\n",
       "      <td>1.000000</td>\n",
       "      <td>1.000000</td>\n",
       "      <td>1.000000</td>\n",
       "    </tr>\n",
       "  </tbody>\n",
       "</table>\n",
       "</div>"
      ],
      "text/plain": [
       "               Age  Internships         CGPA       Hostel  HistoryOfBacklogs  \\\n",
       "count  3566.000000  3566.000000  3566.000000  3566.000000        3566.000000   \n",
       "mean     21.555244     0.724341     7.114975     0.273135           0.192653   \n",
       "std       1.324557     0.741483     0.971236     0.445632           0.394438   \n",
       "min      19.000000     0.000000     5.000000     0.000000           0.000000   \n",
       "25%      21.000000     0.000000     6.000000     0.000000           0.000000   \n",
       "50%      21.000000     1.000000     7.000000     0.000000           0.000000   \n",
       "75%      22.000000     1.000000     8.000000     1.000000           0.000000   \n",
       "max      30.000000     3.000000     9.000000     1.000000           1.000000   \n",
       "\n",
       "       PlacedOrNot  \n",
       "count  3566.000000  \n",
       "mean      0.570107  \n",
       "std       0.495130  \n",
       "min       0.000000  \n",
       "25%       0.000000  \n",
       "50%       1.000000  \n",
       "75%       1.000000  \n",
       "max       1.000000  "
      ]
     },
     "execution_count": 6,
     "metadata": {},
     "output_type": "execute_result"
    }
   ],
   "source": [
    "df.describe()"
   ]
  },
  {
   "cell_type": "code",
   "execution_count": 7,
   "id": "9b8bbcfb",
   "metadata": {
    "colab": {
     "base_uri": "https://localhost:8080/",
     "height": 234
    },
    "executionInfo": {
     "elapsed": 330,
     "status": "ok",
     "timestamp": 1634502142110,
     "user": {
      "displayName": "Berkay Gültekin",
      "photoUrl": "https://lh3.googleusercontent.com/a-/AOh14GgNp_dyh65Yt59sZu-fcfHFoxO1b1Tl7vOS9GcMrpU=s64",
      "userId": "13224636453414803854"
     },
     "user_tz": -180
    },
    "id": "9b8bbcfb",
    "outputId": "2e4ba194-88ca-48b6-9862-2d7906c34fbd",
    "scrolled": false
   },
   "outputs": [
    {
     "data": {
      "text/html": [
       "<div>\n",
       "<style scoped>\n",
       "    .dataframe tbody tr th:only-of-type {\n",
       "        vertical-align: middle;\n",
       "    }\n",
       "\n",
       "    .dataframe tbody tr th {\n",
       "        vertical-align: top;\n",
       "    }\n",
       "\n",
       "    .dataframe thead th {\n",
       "        text-align: right;\n",
       "    }\n",
       "</style>\n",
       "<table border=\"1\" class=\"dataframe\">\n",
       "  <thead>\n",
       "    <tr style=\"text-align: right;\">\n",
       "      <th></th>\n",
       "      <th>Age</th>\n",
       "      <th>Internships</th>\n",
       "      <th>CGPA</th>\n",
       "      <th>Hostel</th>\n",
       "      <th>HistoryOfBacklogs</th>\n",
       "      <th>PlacedOrNot</th>\n",
       "    </tr>\n",
       "  </thead>\n",
       "  <tbody>\n",
       "    <tr>\n",
       "      <th>Age</th>\n",
       "      <td>1.000000</td>\n",
       "      <td>-0.002626</td>\n",
       "      <td>-0.130750</td>\n",
       "      <td>0.001042</td>\n",
       "      <td>-0.033531</td>\n",
       "      <td>0.045846</td>\n",
       "    </tr>\n",
       "    <tr>\n",
       "      <th>Internships</th>\n",
       "      <td>-0.002626</td>\n",
       "      <td>1.000000</td>\n",
       "      <td>0.031168</td>\n",
       "      <td>-0.003827</td>\n",
       "      <td>-0.004433</td>\n",
       "      <td>0.172991</td>\n",
       "    </tr>\n",
       "    <tr>\n",
       "      <th>CGPA</th>\n",
       "      <td>-0.130750</td>\n",
       "      <td>0.031168</td>\n",
       "      <td>1.000000</td>\n",
       "      <td>0.020749</td>\n",
       "      <td>-0.005849</td>\n",
       "      <td>0.574706</td>\n",
       "    </tr>\n",
       "    <tr>\n",
       "      <th>Hostel</th>\n",
       "      <td>0.001042</td>\n",
       "      <td>-0.003827</td>\n",
       "      <td>0.020749</td>\n",
       "      <td>1.000000</td>\n",
       "      <td>0.104297</td>\n",
       "      <td>-0.051212</td>\n",
       "    </tr>\n",
       "    <tr>\n",
       "      <th>HistoryOfBacklogs</th>\n",
       "      <td>-0.033531</td>\n",
       "      <td>-0.004433</td>\n",
       "      <td>-0.005849</td>\n",
       "      <td>0.104297</td>\n",
       "      <td>1.000000</td>\n",
       "      <td>-0.025370</td>\n",
       "    </tr>\n",
       "    <tr>\n",
       "      <th>PlacedOrNot</th>\n",
       "      <td>0.045846</td>\n",
       "      <td>0.172991</td>\n",
       "      <td>0.574706</td>\n",
       "      <td>-0.051212</td>\n",
       "      <td>-0.025370</td>\n",
       "      <td>1.000000</td>\n",
       "    </tr>\n",
       "  </tbody>\n",
       "</table>\n",
       "</div>"
      ],
      "text/plain": [
       "                        Age  Internships      CGPA    Hostel  \\\n",
       "Age                1.000000    -0.002626 -0.130750  0.001042   \n",
       "Internships       -0.002626     1.000000  0.031168 -0.003827   \n",
       "CGPA              -0.130750     0.031168  1.000000  0.020749   \n",
       "Hostel             0.001042    -0.003827  0.020749  1.000000   \n",
       "HistoryOfBacklogs -0.033531    -0.004433 -0.005849  0.104297   \n",
       "PlacedOrNot        0.045846     0.172991  0.574706 -0.051212   \n",
       "\n",
       "                   HistoryOfBacklogs  PlacedOrNot  \n",
       "Age                        -0.033531     0.045846  \n",
       "Internships                -0.004433     0.172991  \n",
       "CGPA                       -0.005849     0.574706  \n",
       "Hostel                      0.104297    -0.051212  \n",
       "HistoryOfBacklogs           1.000000    -0.025370  \n",
       "PlacedOrNot                -0.025370     1.000000  "
      ]
     },
     "execution_count": 7,
     "metadata": {},
     "output_type": "execute_result"
    }
   ],
   "source": [
    "df.corr()"
   ]
  },
  {
   "cell_type": "markdown",
   "id": "43dbad94",
   "metadata": {
    "id": "ce12fe56"
   },
   "source": [
    "**We checked some features of our data. From now on, we will control whether placement dependent on our features or not. First let's look at percentages of male and female students on placement rate.**"
   ]
  },
  {
   "cell_type": "code",
   "execution_count": 8,
   "id": "d7cbba8c",
   "metadata": {
    "colab": {
     "base_uri": "https://localhost:8080/",
     "height": 282
    },
    "executionInfo": {
     "elapsed": 332,
     "status": "ok",
     "timestamp": 1634502130601,
     "user": {
      "displayName": "Berkay Gültekin",
      "photoUrl": "https://lh3.googleusercontent.com/a-/AOh14GgNp_dyh65Yt59sZu-fcfHFoxO1b1Tl7vOS9GcMrpU=s64",
      "userId": "13224636453414803854"
     },
     "user_tz": -180
    },
    "id": "d7cbba8c",
    "outputId": "8cc6810b-8db9-4d5b-b2bb-19b04fa298e6"
   },
   "outputs": [
    {
     "data": {
      "text/plain": [
       "Text(0.5, 1.0, 'Gender Distribution')"
      ]
     },
     "execution_count": 8,
     "metadata": {},
     "output_type": "execute_result"
    },
    {
     "data": {
      "image/png": "[encoded data removed]",
      "text/plain": [
       "<Figure size 432x288 with 1 Axes>"
      ]
     },
     "metadata": {
      "needs_background": "light"
     },
     "output_type": "display_data"
    }
   ],
   "source": [
    "sns.histplot(df.Gender,bins=2).set_title(\"Gender Distribution\")"
   ]
  },
  {
   "cell_type": "markdown",
   "id": "93c4f241",
   "metadata": {},
   "source": [
    "**Now let's find the placement rates of male and female and insert this a Data Frame**"
   ]
  },
  {
   "cell_type": "code",
   "execution_count": 9,
   "id": "23c662ec",
   "metadata": {
    "executionInfo": {
     "elapsed": 11,
     "status": "ok",
     "timestamp": 1634502144813,
     "user": {
      "displayName": "Berkay Gültekin",
      "photoUrl": "https://lh3.googleusercontent.com/a-/AOh14GgNp_dyh65Yt59sZu-fcfHFoxO1b1Tl7vOS9GcMrpU=s64",
      "userId": "13224636453414803854"
     },
     "user_tz": -180
    },
    "id": "23c662ec"
   },
   "outputs": [],
   "source": [
    "Total_Male = (df.Gender == \"Male\").sum()\n",
    "Total_Female = (df.Gender == \"Female\").sum()"
   ]
  },
  {
   "cell_type": "code",
   "execution_count": 10,
   "id": "c56dba48",
   "metadata": {
    "executionInfo": {
     "elapsed": 300,
     "status": "ok",
     "timestamp": 1634502148563,
     "user": {
      "displayName": "Berkay Gültekin",
      "photoUrl": "https://lh3.googleusercontent.com/a-/AOh14GgNp_dyh65Yt59sZu-fcfHFoxO1b1Tl7vOS9GcMrpU=s64",
      "userId": "13224636453414803854"
     },
     "user_tz": -180
    },
    "id": "c56dba48"
   },
   "outputs": [],
   "source": [
    "Male_Placed = ((df.Gender==\"Male\") & (df.PlacedOrNot == 1)).sum()\n",
    "Female_Placed = ((df.Gender==\"Female\") & (df.PlacedOrNot == 1)).sum()"
   ]
  },
  {
   "cell_type": "code",
   "execution_count": 11,
   "id": "6379a4a0",
   "metadata": {
    "executionInfo": {
     "elapsed": 316,
     "status": "ok",
     "timestamp": 1634502156751,
     "user": {
      "displayName": "Berkay Gültekin",
      "photoUrl": "https://lh3.googleusercontent.com/a-/AOh14GgNp_dyh65Yt59sZu-fcfHFoxO1b1Tl7vOS9GcMrpU=s64",
      "userId": "13224636453414803854"
     },
     "user_tz": -180
    },
    "id": "6379a4a0"
   },
   "outputs": [],
   "source": [
    "perc_male_placed = Male_Placed / Total_Male\n",
    "perc_female_placed = Female_Placed / Total_Female"
   ]
  },
  {
   "cell_type": "code",
   "execution_count": 12,
   "id": "3b57b976",
   "metadata": {},
   "outputs": [],
   "source": [
    "df_gender = pd.DataFrame({\"Placed\":[Male_Placed,Female_Placed],\"Not Placed\":[Total_Male - Male_Placed, Total_Female - Female_Placed]},index=[\"Male\",\"Female\"])"
   ]
  },
  {
   "cell_type": "code",
   "execution_count": 13,
   "id": "e6e3cdf8",
   "metadata": {},
   "outputs": [],
   "source": [
    "df_gender[\"%Placed\"] = df_gender[\"Placed\"]/df_gender.apply(sum,axis=1)\n",
    "df_gender[\"%Not Placed\"] = 1 - df_gender[\"%Placed\"]"
   ]
  },
  {
   "cell_type": "code",
   "execution_count": 14,
   "id": "6044081e",
   "metadata": {
    "scrolled": true
   },
   "outputs": [
    {
     "data": {
      "text/html": [
       "<div>\n",
       "<style scoped>\n",
       "    .dataframe tbody tr th:only-of-type {\n",
       "        vertical-align: middle;\n",
       "    }\n",
       "\n",
       "    .dataframe tbody tr th {\n",
       "        vertical-align: top;\n",
       "    }\n",
       "\n",
       "    .dataframe thead th {\n",
       "        text-align: right;\n",
       "    }\n",
       "</style>\n",
       "<table border=\"1\" class=\"dataframe\">\n",
       "  <thead>\n",
       "    <tr style=\"text-align: right;\">\n",
       "      <th></th>\n",
       "      <th>Placed</th>\n",
       "      <th>Not Placed</th>\n",
       "      <th>%Placed</th>\n",
       "      <th>%Not Placed</th>\n",
       "    </tr>\n",
       "  </thead>\n",
       "  <tbody>\n",
       "    <tr>\n",
       "      <th>Male</th>\n",
       "      <td>1680</td>\n",
       "      <td>1285</td>\n",
       "      <td>0.566610</td>\n",
       "      <td>0.433390</td>\n",
       "    </tr>\n",
       "    <tr>\n",
       "      <th>Female</th>\n",
       "      <td>353</td>\n",
       "      <td>248</td>\n",
       "      <td>0.587354</td>\n",
       "      <td>0.412646</td>\n",
       "    </tr>\n",
       "  </tbody>\n",
       "</table>\n",
       "</div>"
      ],
      "text/plain": [
       "        Placed  Not Placed   %Placed  %Not Placed\n",
       "Male      1680        1285  0.566610     0.433390\n",
       "Female     353         248  0.587354     0.412646"
      ]
     },
     "execution_count": 14,
     "metadata": {},
     "output_type": "execute_result"
    }
   ],
   "source": [
    "df_gender"
   ]
  },
  {
   "cell_type": "code",
   "execution_count": 15,
   "id": "a799b9d1",
   "metadata": {},
   "outputs": [
    {
     "data": {
      "image/png": "[encoded data removed]",
      "text/plain": [
       "<Figure size 600x400 with 1 Axes>"
      ]
     },
     "metadata": {
      "needs_background": "light"
     },
     "output_type": "display_data"
    }
   ],
   "source": [
    "plt.figure(dpi=100)\n",
    "\n",
    "bin_width = 0.3\n",
    "epsiln = 0.01\n",
    "plt.bar(df_gender.index,df_gender.Placed,width=bin_width)\n",
    "plt.bar(np.arange(2) + bin_width + epsiln , df_gender[\"Not Placed\"] , width= bin_width)\n",
    "plt.xticks(np.arange(2) + bin_width/2,df_gender.index)\n",
    "plt.legend([\"Placed\",\"Not_Placed\"])\n",
    "plt.ylabel(\"Size of People\")\n",
    "plt.xlabel(\"Number Of People Placed\")\n",
    "plt.show()"
   ]
  },
  {
   "cell_type": "markdown",
   "id": "420ed86c",
   "metadata": {},
   "source": [
    "**Now Let's check whether placement depend on age or not**"
   ]
  },
  {
   "cell_type": "code",
   "execution_count": 16,
   "id": "54584ca7",
   "metadata": {},
   "outputs": [
    {
     "data": {
      "text/plain": [
       "19     156\n",
       "20     375\n",
       "21    1346\n",
       "22    1219\n",
       "23     195\n",
       "24     142\n",
       "25      46\n",
       "26      82\n",
       "28       3\n",
       "29       1\n",
       "30       1\n",
       "Name: Age, dtype: int64"
      ]
     },
     "execution_count": 16,
     "metadata": {},
     "output_type": "execute_result"
    }
   ],
   "source": [
    "df.Age.value_counts().sort_index()"
   ]
  },
  {
   "cell_type": "code",
   "execution_count": 17,
   "id": "3768bd97",
   "metadata": {
    "colab": {
     "base_uri": "https://localhost:8080/",
     "height": 298
    },
    "executionInfo": {
     "elapsed": 342,
     "status": "ok",
     "timestamp": 1634502133747,
     "user": {
      "displayName": "Berkay Gültekin",
      "photoUrl": "https://lh3.googleusercontent.com/a-/AOh14GgNp_dyh65Yt59sZu-fcfHFoxO1b1Tl7vOS9GcMrpU=s64",
      "userId": "13224636453414803854"
     },
     "user_tz": -180
    },
    "id": "3768bd97",
    "outputId": "e48a3789-fc09-464a-c7b8-6206c9cd1703"
   },
   "outputs": [
    {
     "data": {
      "text/plain": [
       "<AxesSubplot:xlabel='Age', ylabel='Count'>"
      ]
     },
     "execution_count": 17,
     "metadata": {},
     "output_type": "execute_result"
    },
    {
     "data": {
      "image/png": "[encoded data removed]",
      "text/plain": [
       "<Figure size 432x288 with 1 Axes>"
      ]
     },
     "metadata": {
      "needs_background": "light"
     },
     "output_type": "display_data"
    }
   ],
   "source": [
    "sns.histplot(df.Age,bins=len(df.Age.unique()))"
   ]
  },
  {
   "cell_type": "code",
   "execution_count": 18,
   "id": "6b73e358",
   "metadata": {},
   "outputs": [],
   "source": [
    "df_age = df.pivot_table(index=\"Age\",values=\"PlacedOrNot\",aggfunc=np.size)"
   ]
  },
  {
   "cell_type": "code",
   "execution_count": 19,
   "id": "680e3a2b",
   "metadata": {},
   "outputs": [],
   "source": [
    "for i in df_age.index:\n",
    "    df_age.loc[[i],[\"Placed\"]] = ((df.Age == i) & (df.PlacedOrNot == 1)).sum()"
   ]
  },
  {
   "cell_type": "code",
   "execution_count": 20,
   "id": "31e75721",
   "metadata": {},
   "outputs": [],
   "source": [
    "for i in df_age.index:\n",
    "    df_age.loc[[i],[\"Not_Placed\"]] = ((df.Age == i) & (df.PlacedOrNot == 0)).sum()"
   ]
  },
  {
   "cell_type": "code",
   "execution_count": 21,
   "id": "386061ad",
   "metadata": {},
   "outputs": [],
   "source": [
    "df_age[\"%Placed\"] = df_age[\"Placed\"]/df_age[\"PlacedOrNot\"]\n",
    "df_age[\"%NotPlaced\"] = df_age[\"Not_Placed\"] / df_age[\"PlacedOrNot\"]"
   ]
  },
  {
   "cell_type": "code",
   "execution_count": 22,
   "id": "d2a1ef92",
   "metadata": {},
   "outputs": [
    {
     "data": {
      "text/html": [
       "<div>\n",
       "<style scoped>\n",
       "    .dataframe tbody tr th:only-of-type {\n",
       "        vertical-align: middle;\n",
       "    }\n",
       "\n",
       "    .dataframe tbody tr th {\n",
       "        vertical-align: top;\n",
       "    }\n",
       "\n",
       "    .dataframe thead th {\n",
       "        text-align: right;\n",
       "    }\n",
       "</style>\n",
       "<table border=\"1\" class=\"dataframe\">\n",
       "  <thead>\n",
       "    <tr style=\"text-align: right;\">\n",
       "      <th></th>\n",
       "      <th>PlacedOrNot</th>\n",
       "      <th>Placed</th>\n",
       "      <th>Not_Placed</th>\n",
       "      <th>%Placed</th>\n",
       "      <th>%NotPlaced</th>\n",
       "    </tr>\n",
       "    <tr>\n",
       "      <th>Age</th>\n",
       "      <th></th>\n",
       "      <th></th>\n",
       "      <th></th>\n",
       "      <th></th>\n",
       "      <th></th>\n",
       "    </tr>\n",
       "  </thead>\n",
       "  <tbody>\n",
       "    <tr>\n",
       "      <th>19</th>\n",
       "      <td>156</td>\n",
       "      <td>92.0</td>\n",
       "      <td>64.0</td>\n",
       "      <td>0.589744</td>\n",
       "      <td>0.410256</td>\n",
       "    </tr>\n",
       "    <tr>\n",
       "      <th>20</th>\n",
       "      <td>375</td>\n",
       "      <td>199.0</td>\n",
       "      <td>176.0</td>\n",
       "      <td>0.530667</td>\n",
       "      <td>0.469333</td>\n",
       "    </tr>\n",
       "    <tr>\n",
       "      <th>21</th>\n",
       "      <td>1346</td>\n",
       "      <td>799.0</td>\n",
       "      <td>547.0</td>\n",
       "      <td>0.593611</td>\n",
       "      <td>0.406389</td>\n",
       "    </tr>\n",
       "    <tr>\n",
       "      <th>22</th>\n",
       "      <td>1219</td>\n",
       "      <td>649.0</td>\n",
       "      <td>570.0</td>\n",
       "      <td>0.532404</td>\n",
       "      <td>0.467596</td>\n",
       "    </tr>\n",
       "    <tr>\n",
       "      <th>23</th>\n",
       "      <td>195</td>\n",
       "      <td>85.0</td>\n",
       "      <td>110.0</td>\n",
       "      <td>0.435897</td>\n",
       "      <td>0.564103</td>\n",
       "    </tr>\n",
       "    <tr>\n",
       "      <th>24</th>\n",
       "      <td>142</td>\n",
       "      <td>112.0</td>\n",
       "      <td>30.0</td>\n",
       "      <td>0.788732</td>\n",
       "      <td>0.211268</td>\n",
       "    </tr>\n",
       "    <tr>\n",
       "      <th>25</th>\n",
       "      <td>46</td>\n",
       "      <td>34.0</td>\n",
       "      <td>12.0</td>\n",
       "      <td>0.739130</td>\n",
       "      <td>0.260870</td>\n",
       "    </tr>\n",
       "    <tr>\n",
       "      <th>26</th>\n",
       "      <td>82</td>\n",
       "      <td>58.0</td>\n",
       "      <td>24.0</td>\n",
       "      <td>0.707317</td>\n",
       "      <td>0.292683</td>\n",
       "    </tr>\n",
       "    <tr>\n",
       "      <th>28</th>\n",
       "      <td>3</td>\n",
       "      <td>3.0</td>\n",
       "      <td>0.0</td>\n",
       "      <td>1.000000</td>\n",
       "      <td>0.000000</td>\n",
       "    </tr>\n",
       "    <tr>\n",
       "      <th>29</th>\n",
       "      <td>1</td>\n",
       "      <td>1.0</td>\n",
       "      <td>0.0</td>\n",
       "      <td>1.000000</td>\n",
       "      <td>0.000000</td>\n",
       "    </tr>\n",
       "    <tr>\n",
       "      <th>30</th>\n",
       "      <td>1</td>\n",
       "      <td>1.0</td>\n",
       "      <td>0.0</td>\n",
       "      <td>1.000000</td>\n",
       "      <td>0.000000</td>\n",
       "    </tr>\n",
       "  </tbody>\n",
       "</table>\n",
       "</div>"
      ],
      "text/plain": [
       "     PlacedOrNot  Placed  Not_Placed   %Placed  %NotPlaced\n",
       "Age                                                       \n",
       "19           156    92.0        64.0  0.589744    0.410256\n",
       "20           375   199.0       176.0  0.530667    0.469333\n",
       "21          1346   799.0       547.0  0.593611    0.406389\n",
       "22          1219   649.0       570.0  0.532404    0.467596\n",
       "23           195    85.0       110.0  0.435897    0.564103\n",
       "24           142   112.0        30.0  0.788732    0.211268\n",
       "25            46    34.0        12.0  0.739130    0.260870\n",
       "26            82    58.0        24.0  0.707317    0.292683\n",
       "28             3     3.0         0.0  1.000000    0.000000\n",
       "29             1     1.0         0.0  1.000000    0.000000\n",
       "30             1     1.0         0.0  1.000000    0.000000"
      ]
     },
     "execution_count": 22,
     "metadata": {},
     "output_type": "execute_result"
    }
   ],
   "source": [
    "df_age"
   ]
  },
  {
   "cell_type": "code",
   "execution_count": 23,
   "id": "ebf7238f",
   "metadata": {},
   "outputs": [
    {
     "data": {
      "image/png": "[encoded data removed]",
      "text/plain": [
       "<Figure size 600x400 with 1 Axes>"
      ]
     },
     "metadata": {
      "needs_background": "light"
     },
     "output_type": "display_data"
    }
   ],
   "source": [
    "plt.figure(dpi=100)\n",
    "\n",
    "bin_width = 0.3\n",
    "epsiln = 0.01\n",
    "plt.bar(df_age.index,df_age.Placed,width=bin_width)\n",
    "plt.bar(df_age.index + bin_width + epsiln , df_age[\"Not_Placed\"] , width= bin_width)\n",
    "plt.xticks(df_age.index + bin_width/2,df_age.index)\n",
    "plt.legend([\"Placed\",\"Not_Placed\"])\n",
    "plt.ylabel(\"Size of People\")\n",
    "plt.xlabel(\"Age Groups\")\n",
    "plt.show()"
   ]
  },
  {
   "cell_type": "markdown",
   "id": "5de33478",
   "metadata": {
    "id": "d2e8410a"
   },
   "source": [
    "**Now let's look at whether internship number has an effect on the placement or not.**"
   ]
  },
  {
   "cell_type": "code",
   "execution_count": 24,
   "id": "808bce45",
   "metadata": {
    "executionInfo": {
     "elapsed": 329,
     "status": "ok",
     "timestamp": 1634503993847,
     "user": {
      "displayName": "Berkay Gültekin",
      "photoUrl": "https://lh3.googleusercontent.com/a-/AOh14GgNp_dyh65Yt59sZu-fcfHFoxO1b1Tl7vOS9GcMrpU=s64",
      "userId": "13224636453414803854"
     },
     "user_tz": -180
    },
    "id": "808bce45"
   },
   "outputs": [],
   "source": [
    "internship = df.pivot_table(index=[\"Internships\"],values=\"PlacedOrNot\",aggfunc=np.size)"
   ]
  },
  {
   "cell_type": "code",
   "execution_count": 25,
   "id": "H_Ul1_Kb8oLc",
   "metadata": {
    "colab": {
     "base_uri": "https://localhost:8080/",
     "height": 203
    },
    "executionInfo": {
     "elapsed": 320,
     "status": "ok",
     "timestamp": 1634504257929,
     "user": {
      "displayName": "Berkay Gültekin",
      "photoUrl": "https://lh3.googleusercontent.com/a-/AOh14GgNp_dyh65Yt59sZu-fcfHFoxO1b1Tl7vOS9GcMrpU=s64",
      "userId": "13224636453414803854"
     },
     "user_tz": -180
    },
    "id": "H_Ul1_Kb8oLc",
    "outputId": "dd1d2383-0ea8-476f-bdda-9136923d733a"
   },
   "outputs": [
    {
     "data": {
      "text/html": [
       "<div>\n",
       "<style scoped>\n",
       "    .dataframe tbody tr th:only-of-type {\n",
       "        vertical-align: middle;\n",
       "    }\n",
       "\n",
       "    .dataframe tbody tr th {\n",
       "        vertical-align: top;\n",
       "    }\n",
       "\n",
       "    .dataframe thead th {\n",
       "        text-align: right;\n",
       "    }\n",
       "</style>\n",
       "<table border=\"1\" class=\"dataframe\">\n",
       "  <thead>\n",
       "    <tr style=\"text-align: right;\">\n",
       "      <th></th>\n",
       "      <th>PlacedOrNot</th>\n",
       "    </tr>\n",
       "    <tr>\n",
       "      <th>Internships</th>\n",
       "      <th></th>\n",
       "    </tr>\n",
       "  </thead>\n",
       "  <tbody>\n",
       "    <tr>\n",
       "      <th>0</th>\n",
       "      <td>1552</td>\n",
       "    </tr>\n",
       "    <tr>\n",
       "      <th>1</th>\n",
       "      <td>1500</td>\n",
       "    </tr>\n",
       "    <tr>\n",
       "      <th>2</th>\n",
       "      <td>459</td>\n",
       "    </tr>\n",
       "    <tr>\n",
       "      <th>3</th>\n",
       "      <td>55</td>\n",
       "    </tr>\n",
       "  </tbody>\n",
       "</table>\n",
       "</div>"
      ],
      "text/plain": [
       "             PlacedOrNot\n",
       "Internships             \n",
       "0                   1552\n",
       "1                   1500\n",
       "2                    459\n",
       "3                     55"
      ]
     },
     "execution_count": 25,
     "metadata": {},
     "output_type": "execute_result"
    }
   ],
   "source": [
    "internship"
   ]
  },
  {
   "cell_type": "code",
   "execution_count": 26,
   "id": "ks6n0iH-C7zK",
   "metadata": {
    "executionInfo": {
     "elapsed": 316,
     "status": "ok",
     "timestamp": 1634504864859,
     "user": {
      "displayName": "Berkay Gültekin",
      "photoUrl": "https://lh3.googleusercontent.com/a-/AOh14GgNp_dyh65Yt59sZu-fcfHFoxO1b1Tl7vOS9GcMrpU=s64",
      "userId": "13224636453414803854"
     },
     "user_tz": -180
    },
    "id": "ks6n0iH-C7zK"
   },
   "outputs": [],
   "source": [
    "for i in range(4):\n",
    "    internship.loc[[i],[\"Placed\"]] = ((df.Internships == i) & (df.PlacedOrNot == 1)).sum()"
   ]
  },
  {
   "cell_type": "code",
   "execution_count": 27,
   "id": "8aoK5u6QEkNs",
   "metadata": {
    "executionInfo": {
     "elapsed": 402,
     "status": "ok",
     "timestamp": 1634504974527,
     "user": {
      "displayName": "Berkay Gültekin",
      "photoUrl": "https://lh3.googleusercontent.com/a-/AOh14GgNp_dyh65Yt59sZu-fcfHFoxO1b1Tl7vOS9GcMrpU=s64",
      "userId": "13224636453414803854"
     },
     "user_tz": -180
    },
    "id": "8aoK5u6QEkNs"
   },
   "outputs": [],
   "source": [
    "for i in internship.index:\n",
    "    internship.loc[[i],[\"NotPlaced\"]] = ((df.Internships == i) & (df.PlacedOrNot == 0)).sum()"
   ]
  },
  {
   "cell_type": "code",
   "execution_count": 28,
   "id": "0QjAZf_TFq78",
   "metadata": {
    "executionInfo": {
     "elapsed": 347,
     "status": "ok",
     "timestamp": 1634505043089,
     "user": {
      "displayName": "Berkay Gültekin",
      "photoUrl": "https://lh3.googleusercontent.com/a-/AOh14GgNp_dyh65Yt59sZu-fcfHFoxO1b1Tl7vOS9GcMrpU=s64",
      "userId": "13224636453414803854"
     },
     "user_tz": -180
    },
    "id": "0QjAZf_TFq78"
   },
   "outputs": [],
   "source": [
    "internship[\"%Placed\"] = internship[\"Placed\"] / internship[\"PlacedOrNot\"]"
   ]
  },
  {
   "cell_type": "code",
   "execution_count": 29,
   "id": "_noDvMIqF7pq",
   "metadata": {
    "executionInfo": {
     "elapsed": 321,
     "status": "ok",
     "timestamp": 1634505111931,
     "user": {
      "displayName": "Berkay Gültekin",
      "photoUrl": "https://lh3.googleusercontent.com/a-/AOh14GgNp_dyh65Yt59sZu-fcfHFoxO1b1Tl7vOS9GcMrpU=s64",
      "userId": "13224636453414803854"
     },
     "user_tz": -180
    },
    "id": "_noDvMIqF7pq"
   },
   "outputs": [],
   "source": [
    "internship[\"%NotPlaced\"] = 1 - internship[\"%Placed\"]"
   ]
  },
  {
   "cell_type": "code",
   "execution_count": 30,
   "id": "DK8MuQ5CGMW3",
   "metadata": {
    "colab": {
     "base_uri": "https://localhost:8080/",
     "height": 203
    },
    "executionInfo": {
     "elapsed": 331,
     "status": "ok",
     "timestamp": 1634505119076,
     "user": {
      "displayName": "Berkay Gültekin",
      "photoUrl": "https://lh3.googleusercontent.com/a-/AOh14GgNp_dyh65Yt59sZu-fcfHFoxO1b1Tl7vOS9GcMrpU=s64",
      "userId": "13224636453414803854"
     },
     "user_tz": -180
    },
    "id": "DK8MuQ5CGMW3",
    "outputId": "0ffe29aa-22a6-43d3-e0bf-c4f942406ceb"
   },
   "outputs": [
    {
     "data": {
      "text/html": [
       "<div>\n",
       "<style scoped>\n",
       "    .dataframe tbody tr th:only-of-type {\n",
       "        vertical-align: middle;\n",
       "    }\n",
       "\n",
       "    .dataframe tbody tr th {\n",
       "        vertical-align: top;\n",
       "    }\n",
       "\n",
       "    .dataframe thead th {\n",
       "        text-align: right;\n",
       "    }\n",
       "</style>\n",
       "<table border=\"1\" class=\"dataframe\">\n",
       "  <thead>\n",
       "    <tr style=\"text-align: right;\">\n",
       "      <th></th>\n",
       "      <th>PlacedOrNot</th>\n",
       "      <th>Placed</th>\n",
       "      <th>NotPlaced</th>\n",
       "      <th>%Placed</th>\n",
       "      <th>%NotPlaced</th>\n",
       "    </tr>\n",
       "    <tr>\n",
       "      <th>Internships</th>\n",
       "      <th></th>\n",
       "      <th></th>\n",
       "      <th></th>\n",
       "      <th></th>\n",
       "      <th></th>\n",
       "    </tr>\n",
       "  </thead>\n",
       "  <tbody>\n",
       "    <tr>\n",
       "      <th>0</th>\n",
       "      <td>1552</td>\n",
       "      <td>794.0</td>\n",
       "      <td>758.0</td>\n",
       "      <td>0.511598</td>\n",
       "      <td>0.488402</td>\n",
       "    </tr>\n",
       "    <tr>\n",
       "      <th>1</th>\n",
       "      <td>1500</td>\n",
       "      <td>822.0</td>\n",
       "      <td>678.0</td>\n",
       "      <td>0.548000</td>\n",
       "      <td>0.452000</td>\n",
       "    </tr>\n",
       "    <tr>\n",
       "      <th>2</th>\n",
       "      <td>459</td>\n",
       "      <td>374.0</td>\n",
       "      <td>85.0</td>\n",
       "      <td>0.814815</td>\n",
       "      <td>0.185185</td>\n",
       "    </tr>\n",
       "    <tr>\n",
       "      <th>3</th>\n",
       "      <td>55</td>\n",
       "      <td>43.0</td>\n",
       "      <td>12.0</td>\n",
       "      <td>0.781818</td>\n",
       "      <td>0.218182</td>\n",
       "    </tr>\n",
       "  </tbody>\n",
       "</table>\n",
       "</div>"
      ],
      "text/plain": [
       "             PlacedOrNot  Placed  NotPlaced   %Placed  %NotPlaced\n",
       "Internships                                                      \n",
       "0                   1552   794.0      758.0  0.511598    0.488402\n",
       "1                   1500   822.0      678.0  0.548000    0.452000\n",
       "2                    459   374.0       85.0  0.814815    0.185185\n",
       "3                     55    43.0       12.0  0.781818    0.218182"
      ]
     },
     "execution_count": 30,
     "metadata": {},
     "output_type": "execute_result"
    }
   ],
   "source": [
    "internship"
   ]
  },
  {
   "cell_type": "code",
   "execution_count": 31,
   "id": "01L-7cEnGZOs",
   "metadata": {
    "colab": {
     "base_uri": "https://localhost:8080/",
     "height": 296
    },
    "executionInfo": {
     "elapsed": 361,
     "status": "ok",
     "timestamp": 1634506397874,
     "user": {
      "displayName": "Berkay Gültekin",
      "photoUrl": "https://lh3.googleusercontent.com/a-/AOh14GgNp_dyh65Yt59sZu-fcfHFoxO1b1Tl7vOS9GcMrpU=s64",
      "userId": "13224636453414803854"
     },
     "user_tz": -180
    },
    "id": "01L-7cEnGZOs",
    "outputId": "d7fb0ae8-4f9e-4e4f-fc37-1ac9db3c734f",
    "scrolled": true
   },
   "outputs": [
    {
     "data": {
      "image/png": "[encoded data removed]",
      "text/plain": [
       "<Figure size 570x380 with 1 Axes>"
      ]
     },
     "metadata": {
      "needs_background": "light"
     },
     "output_type": "display_data"
    }
   ],
   "source": [
    "#Increase resolution to dpi=100\n",
    "plt.figure(dpi=95)\n",
    "\n",
    "bin_width = 0.3\n",
    "epsiln = 0.01\n",
    "plt.bar(internship.index,internship.Placed,width=bin_width)\n",
    "plt.bar(internship.index + bin_width + epsiln , internship.NotPlaced , width= bin_width)\n",
    "plt.xticks(internship.index + bin_width/2,internship.index)\n",
    "plt.legend([\"Placed\",\"Not_Placed\"])\n",
    "plt.ylabel(\"Size of People\")\n",
    "plt.xlabel(\"Number Of Internships Undertaken During The Course Of Studies\")\n",
    "plt.show()"
   ]
  },
  {
   "cell_type": "markdown",
   "id": "70b32c97",
   "metadata": {},
   "source": [
    "**Now let's investigate wheather engineering stream has an effect on placed or not.**"
   ]
  },
  {
   "cell_type": "code",
   "execution_count": 32,
   "id": "04270122",
   "metadata": {},
   "outputs": [
    {
     "data": {
      "text/plain": [
       "array(['Electronics And Communication', 'Computer Science',\n",
       "       'Information Technology', 'Mechanical', 'Electrical', 'Civil'],\n",
       "      dtype=object)"
      ]
     },
     "execution_count": 32,
     "metadata": {},
     "output_type": "execute_result"
    }
   ],
   "source": [
    "df.Stream.unique()"
   ]
  },
  {
   "cell_type": "code",
   "execution_count": 33,
   "id": "64b9838a",
   "metadata": {},
   "outputs": [],
   "source": [
    "df_stream = df.pivot_table(index=\"Stream\",values=\"PlacedOrNot\",aggfunc=np.size)"
   ]
  },
  {
   "cell_type": "code",
   "execution_count": 34,
   "id": "ead92690",
   "metadata": {},
   "outputs": [],
   "source": [
    "for i in df_stream.index:\n",
    "    df_stream.loc[[i],[\"Placed\"]] = ((df.Stream == i) & (df.PlacedOrNot == 1)).sum()"
   ]
  },
  {
   "cell_type": "code",
   "execution_count": 35,
   "id": "7297016f",
   "metadata": {},
   "outputs": [],
   "source": [
    "for i in df_stream.index:\n",
    "    df_stream.loc[[i],[\"Not_Placed\"]] = ((df.Stream == i) & (df.PlacedOrNot == 0)).sum()"
   ]
  },
  {
   "cell_type": "code",
   "execution_count": 36,
   "id": "e480c9c7",
   "metadata": {},
   "outputs": [],
   "source": [
    "df_stream[\"%Placed\"] = df_stream[\"Placed\"]/df_stream[\"PlacedOrNot\"]\n",
    "df_stream[\"%Not_Placed\"]=df_stream[\"Not_Placed\"]/df_stream[\"PlacedOrNot\"]"
   ]
  },
  {
   "cell_type": "code",
   "execution_count": 37,
   "id": "d3f4e2a2",
   "metadata": {},
   "outputs": [
    {
     "data": {
      "text/html": [
       "<div>\n",
       "<style scoped>\n",
       "    .dataframe tbody tr th:only-of-type {\n",
       "        vertical-align: middle;\n",
       "    }\n",
       "\n",
       "    .dataframe tbody tr th {\n",
       "        vertical-align: top;\n",
       "    }\n",
       "\n",
       "    .dataframe thead th {\n",
       "        text-align: right;\n",
       "    }\n",
       "</style>\n",
       "<table border=\"1\" class=\"dataframe\">\n",
       "  <thead>\n",
       "    <tr style=\"text-align: right;\">\n",
       "      <th></th>\n",
       "      <th>PlacedOrNot</th>\n",
       "      <th>Placed</th>\n",
       "      <th>Not_Placed</th>\n",
       "      <th>%Placed</th>\n",
       "      <th>%Not_Placed</th>\n",
       "    </tr>\n",
       "    <tr>\n",
       "      <th>Stream</th>\n",
       "      <th></th>\n",
       "      <th></th>\n",
       "      <th></th>\n",
       "      <th></th>\n",
       "      <th></th>\n",
       "    </tr>\n",
       "  </thead>\n",
       "  <tbody>\n",
       "    <tr>\n",
       "      <th>Civil</th>\n",
       "      <td>380</td>\n",
       "      <td>174.0</td>\n",
       "      <td>206.0</td>\n",
       "      <td>0.457895</td>\n",
       "      <td>0.542105</td>\n",
       "    </tr>\n",
       "    <tr>\n",
       "      <th>Computer Science</th>\n",
       "      <td>920</td>\n",
       "      <td>563.0</td>\n",
       "      <td>357.0</td>\n",
       "      <td>0.611957</td>\n",
       "      <td>0.388043</td>\n",
       "    </tr>\n",
       "    <tr>\n",
       "      <th>Electrical</th>\n",
       "      <td>395</td>\n",
       "      <td>220.0</td>\n",
       "      <td>175.0</td>\n",
       "      <td>0.556962</td>\n",
       "      <td>0.443038</td>\n",
       "    </tr>\n",
       "    <tr>\n",
       "      <th>Electronics And Communication</th>\n",
       "      <td>499</td>\n",
       "      <td>297.0</td>\n",
       "      <td>202.0</td>\n",
       "      <td>0.595190</td>\n",
       "      <td>0.404810</td>\n",
       "    </tr>\n",
       "    <tr>\n",
       "      <th>Information Technology</th>\n",
       "      <td>852</td>\n",
       "      <td>532.0</td>\n",
       "      <td>320.0</td>\n",
       "      <td>0.624413</td>\n",
       "      <td>0.375587</td>\n",
       "    </tr>\n",
       "    <tr>\n",
       "      <th>Mechanical</th>\n",
       "      <td>520</td>\n",
       "      <td>247.0</td>\n",
       "      <td>273.0</td>\n",
       "      <td>0.475000</td>\n",
       "      <td>0.525000</td>\n",
       "    </tr>\n",
       "  </tbody>\n",
       "</table>\n",
       "</div>"
      ],
      "text/plain": [
       "                               PlacedOrNot  Placed  Not_Placed   %Placed  \\\n",
       "Stream                                                                     \n",
       "Civil                                  380   174.0       206.0  0.457895   \n",
       "Computer Science                       920   563.0       357.0  0.611957   \n",
       "Electrical                             395   220.0       175.0  0.556962   \n",
       "Electronics And Communication          499   297.0       202.0  0.595190   \n",
       "Information Technology                 852   532.0       320.0  0.624413   \n",
       "Mechanical                             520   247.0       273.0  0.475000   \n",
       "\n",
       "                               %Not_Placed  \n",
       "Stream                                      \n",
       "Civil                             0.542105  \n",
       "Computer Science                  0.388043  \n",
       "Electrical                        0.443038  \n",
       "Electronics And Communication     0.404810  \n",
       "Information Technology            0.375587  \n",
       "Mechanical                        0.525000  "
      ]
     },
     "execution_count": 37,
     "metadata": {},
     "output_type": "execute_result"
    }
   ],
   "source": [
    "df_stream"
   ]
  },
  {
   "cell_type": "code",
   "execution_count": 38,
   "id": "56b56a1d",
   "metadata": {
    "scrolled": false
   },
   "outputs": [
    {
     "data": {
      "image/png": "[encoded data removed]",
      "text/plain": [
       "<Figure size 600x400 with 1 Axes>"
      ]
     },
     "metadata": {
      "needs_background": "light"
     },
     "output_type": "display_data"
    }
   ],
   "source": [
    "plt.figure(dpi=100)\n",
    "\n",
    "bin_width = 0.3\n",
    "epsiln = 0.01\n",
    "plt.bar(df_stream.index,df_stream.Placed,width=bin_width)\n",
    "plt.bar(np.arange(6) + bin_width + epsiln , df_stream[\"Not_Placed\"] , width= bin_width)\n",
    "plt.xticks(np.arange(6) + bin_width/2,df_stream.index,rotation=90)\n",
    "plt.legend([\"Placed\",\"Not_Placed\"])\n",
    "plt.ylabel(\"Size of People\")\n",
    "plt.title(\"Stream Types vs Size of People\")\n",
    "plt.show()"
   ]
  },
  {
   "cell_type": "markdown",
   "id": "b6795bac",
   "metadata": {},
   "source": [
    "**Let's check cgpa average and whether affect on placement or not.**"
   ]
  },
  {
   "cell_type": "code",
   "execution_count": 39,
   "id": "7be8d170",
   "metadata": {},
   "outputs": [
    {
     "data": {
      "text/plain": [
       "7.114974761637689"
      ]
     },
     "execution_count": 39,
     "metadata": {},
     "output_type": "execute_result"
    }
   ],
   "source": [
    "df.CGPA.mean()"
   ]
  },
  {
   "cell_type": "code",
   "execution_count": 40,
   "id": "b4f7c10e",
   "metadata": {},
   "outputs": [],
   "source": [
    "cgpa_above_average_placed = df[df.CGPA > df.CGPA.mean()][\"PlacedOrNot\"].value_counts()[1]\n",
    "cgpa_above_average_not_placed = df[df.CGPA > df.CGPA.mean()][\"PlacedOrNot\"].value_counts().sum() - df[df.CGPA > df.CGPA.mean()][\"PlacedOrNot\"].value_counts()[1]\n",
    "cgpa_below_average_placed = df[df.CGPA < df.CGPA.mean()][\"PlacedOrNot\"].value_counts()[1]\n",
    "cgpa_below_average_not_placed = df[df.CGPA < df.CGPA.mean()][\"PlacedOrNot\"].value_counts()[0]"
   ]
  },
  {
   "cell_type": "code",
   "execution_count": 41,
   "id": "980d9902",
   "metadata": {
    "scrolled": true
   },
   "outputs": [],
   "source": [
    "df_cgpa = pd.DataFrame({\"Placed\":[cgpa_above_average_placed,cgpa_below_average_placed],\"Not_Placed\":[cgpa_above_average_not_placed,cgpa_below_average_not_placed]},index=[\"CGPA Above Average\",\"CGPA Below Average\"])"
   ]
  },
  {
   "cell_type": "code",
   "execution_count": 42,
   "id": "dc412d86",
   "metadata": {},
   "outputs": [],
   "source": [
    "df_cgpa[\"%Placed\"] = df_cgpa[\"Placed\"]/df_cgpa.apply(sum, axis=1)"
   ]
  },
  {
   "cell_type": "code",
   "execution_count": 43,
   "id": "cf5b7c22",
   "metadata": {},
   "outputs": [],
   "source": [
    "df_cgpa[\"%Not_Placed\"] = df_cgpa[\"Not_Placed\"]/df_cgpa.apply(sum, axis=1)"
   ]
  },
  {
   "cell_type": "code",
   "execution_count": 44,
   "id": "92d698c9",
   "metadata": {},
   "outputs": [
    {
     "data": {
      "text/html": [
       "<div>\n",
       "<style scoped>\n",
       "    .dataframe tbody tr th:only-of-type {\n",
       "        vertical-align: middle;\n",
       "    }\n",
       "\n",
       "    .dataframe tbody tr th {\n",
       "        vertical-align: top;\n",
       "    }\n",
       "\n",
       "    .dataframe thead th {\n",
       "        text-align: right;\n",
       "    }\n",
       "</style>\n",
       "<table border=\"1\" class=\"dataframe\">\n",
       "  <thead>\n",
       "    <tr style=\"text-align: right;\">\n",
       "      <th></th>\n",
       "      <th>Placed</th>\n",
       "      <th>Not_Placed</th>\n",
       "      <th>%Placed</th>\n",
       "      <th>%Not_Placed</th>\n",
       "    </tr>\n",
       "  </thead>\n",
       "  <tbody>\n",
       "    <tr>\n",
       "      <th>CGPA Above Average</th>\n",
       "      <td>1330</td>\n",
       "      <td>0</td>\n",
       "      <td>1.000000</td>\n",
       "      <td>0.000000</td>\n",
       "    </tr>\n",
       "    <tr>\n",
       "      <th>CGPA Below Average</th>\n",
       "      <td>703</td>\n",
       "      <td>1533</td>\n",
       "      <td>0.314401</td>\n",
       "      <td>0.685503</td>\n",
       "    </tr>\n",
       "  </tbody>\n",
       "</table>\n",
       "</div>"
      ],
      "text/plain": [
       "                    Placed  Not_Placed   %Placed  %Not_Placed\n",
       "CGPA Above Average    1330           0  1.000000     0.000000\n",
       "CGPA Below Average     703        1533  0.314401     0.685503"
      ]
     },
     "execution_count": 44,
     "metadata": {},
     "output_type": "execute_result"
    }
   ],
   "source": [
    "df_cgpa"
   ]
  },
  {
   "cell_type": "code",
   "execution_count": 45,
   "id": "c02b2ca8",
   "metadata": {},
   "outputs": [
    {
     "data": {
      "image/png": "[encoded data removed]",
      "text/plain": [
       "<Figure size 600x400 with 1 Axes>"
      ]
     },
     "metadata": {
      "needs_background": "light"
     },
     "output_type": "display_data"
    }
   ],
   "source": [
    "plt.figure(dpi=100)\n",
    "\n",
    "bin_width = 0.3\n",
    "epsiln = 0.01\n",
    "plt.bar(df_cgpa.index,df_cgpa.Placed,width=bin_width)\n",
    "plt.bar(np.arange(2) + bin_width + epsiln , df_cgpa[\"Not_Placed\"] , width= bin_width)\n",
    "plt.xticks(np.arange(2) + bin_width/2,df_cgpa.index)\n",
    "plt.legend([\"Placed\",\"Not_Placed\"])\n",
    "plt.ylabel(\"Size of People\")\n",
    "plt.xlabel(\"CGPA Average\")\n",
    "plt.show()"
   ]
  },
  {
   "cell_type": "markdown",
   "id": "27137444",
   "metadata": {},
   "source": [
    "**CGPA mean values did not say anything to me so I want to look at CGPA by CGPA to obtain more meaningful results. So I use crosstab functions to do that.**"
   ]
  },
  {
   "cell_type": "code",
   "execution_count": 46,
   "id": "3746f54e",
   "metadata": {
    "scrolled": true
   },
   "outputs": [
    {
     "data": {
      "text/html": [
       "<div>\n",
       "<style scoped>\n",
       "    .dataframe tbody tr th:only-of-type {\n",
       "        vertical-align: middle;\n",
       "    }\n",
       "\n",
       "    .dataframe tbody tr th {\n",
       "        vertical-align: top;\n",
       "    }\n",
       "\n",
       "    .dataframe thead th {\n",
       "        text-align: right;\n",
       "    }\n",
       "</style>\n",
       "<table border=\"1\" class=\"dataframe\">\n",
       "  <thead>\n",
       "    <tr style=\"text-align: right;\">\n",
       "      <th>PlacedOrNot</th>\n",
       "      <th>0</th>\n",
       "      <th>1</th>\n",
       "    </tr>\n",
       "    <tr>\n",
       "      <th>CGPA</th>\n",
       "      <th></th>\n",
       "      <th></th>\n",
       "    </tr>\n",
       "  </thead>\n",
       "  <tbody>\n",
       "    <tr>\n",
       "      <th>5</th>\n",
       "      <td>89</td>\n",
       "      <td>7</td>\n",
       "    </tr>\n",
       "    <tr>\n",
       "      <th>6</th>\n",
       "      <td>631</td>\n",
       "      <td>339</td>\n",
       "    </tr>\n",
       "    <tr>\n",
       "      <th>7</th>\n",
       "      <td>813</td>\n",
       "      <td>357</td>\n",
       "    </tr>\n",
       "    <tr>\n",
       "      <th>8</th>\n",
       "      <td>0</td>\n",
       "      <td>1088</td>\n",
       "    </tr>\n",
       "    <tr>\n",
       "      <th>9</th>\n",
       "      <td>0</td>\n",
       "      <td>242</td>\n",
       "    </tr>\n",
       "  </tbody>\n",
       "</table>\n",
       "</div>"
      ],
      "text/plain": [
       "PlacedOrNot    0     1\n",
       "CGPA                  \n",
       "5             89     7\n",
       "6            631   339\n",
       "7            813   357\n",
       "8              0  1088\n",
       "9              0   242"
      ]
     },
     "execution_count": 46,
     "metadata": {},
     "output_type": "execute_result"
    }
   ],
   "source": [
    "#crosstab function can be used for computing a simple cross tabulation of two (or more) factors.\n",
    "pd.crosstab(df.CGPA,df.PlacedOrNot)"
   ]
  },
  {
   "cell_type": "code",
   "execution_count": 47,
   "id": "8e07a9c1",
   "metadata": {
    "scrolled": true
   },
   "outputs": [
    {
     "data": {
      "image/png": "[encoded data removed]",
      "text/plain": [
       "<Figure size 540x360 with 1 Axes>"
      ]
     },
     "metadata": {
      "needs_background": "light"
     },
     "output_type": "display_data"
    }
   ],
   "source": [
    "plt.figure(dpi=90)\n",
    "\n",
    "bin_width = 0.3\n",
    "epsiln = 0.01\n",
    "plt.bar(pd.crosstab(df.CGPA,df.PlacedOrNot).index,pd.crosstab(df.CGPA,df.PlacedOrNot)[1],width=bin_width)\n",
    "plt.bar(pd.crosstab(df.CGPA,df.PlacedOrNot).index + bin_width + epsiln , pd.crosstab(df.CGPA,df.PlacedOrNot)[0] , width= bin_width)\n",
    "plt.xticks(pd.crosstab(df.CGPA,df.PlacedOrNot).index + bin_width/2,pd.crosstab(df.CGPA,df.PlacedOrNot).index)\n",
    "plt.legend([\"Placed\",\"Not_Placed\"])\n",
    "plt.ylabel(\"Size of People\")\n",
    "plt.xlabel(\"Placement by CGPA\")\n",
    "plt.show()"
   ]
  },
  {
   "cell_type": "code",
   "execution_count": 48,
   "id": "0d2616df",
   "metadata": {
    "scrolled": true
   },
   "outputs": [
    {
     "data": {
      "text/html": [
       "<div>\n",
       "<style scoped>\n",
       "    .dataframe tbody tr th:only-of-type {\n",
       "        vertical-align: middle;\n",
       "    }\n",
       "\n",
       "    .dataframe tbody tr th {\n",
       "        vertical-align: top;\n",
       "    }\n",
       "\n",
       "    .dataframe thead th {\n",
       "        text-align: right;\n",
       "    }\n",
       "</style>\n",
       "<table border=\"1\" class=\"dataframe\">\n",
       "  <thead>\n",
       "    <tr style=\"text-align: right;\">\n",
       "      <th>PlacedOrNot</th>\n",
       "      <th>0</th>\n",
       "      <th>1</th>\n",
       "    </tr>\n",
       "    <tr>\n",
       "      <th>Hostel</th>\n",
       "      <th></th>\n",
       "      <th></th>\n",
       "    </tr>\n",
       "  </thead>\n",
       "  <tbody>\n",
       "    <tr>\n",
       "      <th>0</th>\n",
       "      <td>1074</td>\n",
       "      <td>1518</td>\n",
       "    </tr>\n",
       "    <tr>\n",
       "      <th>1</th>\n",
       "      <td>459</td>\n",
       "      <td>515</td>\n",
       "    </tr>\n",
       "  </tbody>\n",
       "</table>\n",
       "</div>"
      ],
      "text/plain": [
       "PlacedOrNot     0     1\n",
       "Hostel                 \n",
       "0            1074  1518\n",
       "1             459   515"
      ]
     },
     "execution_count": 48,
     "metadata": {},
     "output_type": "execute_result"
    }
   ],
   "source": [
    "df_hostel = pd.crosstab(df.Hostel,df.PlacedOrNot);df_hostel"
   ]
  },
  {
   "cell_type": "code",
   "execution_count": 49,
   "id": "4ce8e95f",
   "metadata": {},
   "outputs": [],
   "source": [
    "#Let's change the index and column name for better reading\n",
    "df_hostel.set_axis([\"Not_Placed\",\"Placed\"],axis=1,inplace=True)"
   ]
  },
  {
   "cell_type": "code",
   "execution_count": 50,
   "id": "2563c93c",
   "metadata": {},
   "outputs": [],
   "source": [
    "df_hostel.set_axis([\"Lives in Elsewhere\",\"Lives in Hostel\"],axis=0,inplace=True)"
   ]
  },
  {
   "cell_type": "code",
   "execution_count": 51,
   "id": "d4dbb132",
   "metadata": {},
   "outputs": [],
   "source": [
    "df_hostel[\"%Placed\"] = df_hostel[\"Placed\"]/df_hostel.apply(sum,axis=1)\n",
    "df_hostel[\"%Not_Placed\"] =df_hostel[\"Not_Placed\"]/df_hostel.apply(sum,axis=1)"
   ]
  },
  {
   "cell_type": "code",
   "execution_count": 52,
   "id": "92a06953",
   "metadata": {},
   "outputs": [
    {
     "data": {
      "text/html": [
       "<div>\n",
       "<style scoped>\n",
       "    .dataframe tbody tr th:only-of-type {\n",
       "        vertical-align: middle;\n",
       "    }\n",
       "\n",
       "    .dataframe tbody tr th {\n",
       "        vertical-align: top;\n",
       "    }\n",
       "\n",
       "    .dataframe thead th {\n",
       "        text-align: right;\n",
       "    }\n",
       "</style>\n",
       "<table border=\"1\" class=\"dataframe\">\n",
       "  <thead>\n",
       "    <tr style=\"text-align: right;\">\n",
       "      <th></th>\n",
       "      <th>Not_Placed</th>\n",
       "      <th>Placed</th>\n",
       "      <th>%Placed</th>\n",
       "      <th>%Not_Placed</th>\n",
       "    </tr>\n",
       "  </thead>\n",
       "  <tbody>\n",
       "    <tr>\n",
       "      <th>Lives in Elsewhere</th>\n",
       "      <td>1074</td>\n",
       "      <td>1518</td>\n",
       "      <td>0.585648</td>\n",
       "      <td>0.414258</td>\n",
       "    </tr>\n",
       "    <tr>\n",
       "      <th>Lives in Hostel</th>\n",
       "      <td>459</td>\n",
       "      <td>515</td>\n",
       "      <td>0.528747</td>\n",
       "      <td>0.470997</td>\n",
       "    </tr>\n",
       "  </tbody>\n",
       "</table>\n",
       "</div>"
      ],
      "text/plain": [
       "                    Not_Placed  Placed   %Placed  %Not_Placed\n",
       "Lives in Elsewhere        1074    1518  0.585648     0.414258\n",
       "Lives in Hostel            459     515  0.528747     0.470997"
      ]
     },
     "execution_count": 52,
     "metadata": {},
     "output_type": "execute_result"
    }
   ],
   "source": [
    "df_hostel"
   ]
  },
  {
   "cell_type": "code",
   "execution_count": 53,
   "id": "fab7fb9b",
   "metadata": {},
   "outputs": [
    {
     "data": {
      "image/png": "[encoded data removed]",
      "text/plain": [
       "<Figure size 600x400 with 1 Axes>"
      ]
     },
     "metadata": {
      "needs_background": "light"
     },
     "output_type": "display_data"
    }
   ],
   "source": [
    "plt.figure(dpi=100)\n",
    "\n",
    "bin_width = 0.3\n",
    "epsiln = 0.01\n",
    "plt.bar(df_hostel.index,df_hostel.Placed,width=bin_width)\n",
    "plt.bar(np.arange(2) + bin_width + epsiln , df_hostel.Not_Placed , width= bin_width)\n",
    "plt.xticks(np.arange(2) + bin_width/2,df_hostel.index)\n",
    "plt.legend([\"Placed\",\"Not_Placed\"])\n",
    "plt.ylabel(\"Size of People\")\n",
    "plt.xlabel(\"Wheather lives in Hostel or not\")\n",
    "plt.show()"
   ]
  },
  {
   "cell_type": "code",
   "execution_count": 54,
   "id": "f9043d73",
   "metadata": {
    "scrolled": true
   },
   "outputs": [
    {
     "data": {
      "text/html": [
       "<div>\n",
       "<style scoped>\n",
       "    .dataframe tbody tr th:only-of-type {\n",
       "        vertical-align: middle;\n",
       "    }\n",
       "\n",
       "    .dataframe tbody tr th {\n",
       "        vertical-align: top;\n",
       "    }\n",
       "\n",
       "    .dataframe thead th {\n",
       "        text-align: right;\n",
       "    }\n",
       "</style>\n",
       "<table border=\"1\" class=\"dataframe\">\n",
       "  <thead>\n",
       "    <tr style=\"text-align: right;\">\n",
       "      <th></th>\n",
       "      <th>Age</th>\n",
       "      <th>Gender</th>\n",
       "      <th>Stream</th>\n",
       "      <th>Internships</th>\n",
       "      <th>CGPA</th>\n",
       "      <th>Hostel</th>\n",
       "      <th>HistoryOfBacklogs</th>\n",
       "      <th>PlacedOrNot</th>\n",
       "    </tr>\n",
       "  </thead>\n",
       "  <tbody>\n",
       "    <tr>\n",
       "      <th>0</th>\n",
       "      <td>22</td>\n",
       "      <td>Male</td>\n",
       "      <td>Electronics And Communication</td>\n",
       "      <td>1</td>\n",
       "      <td>8</td>\n",
       "      <td>1</td>\n",
       "      <td>1</td>\n",
       "      <td>1</td>\n",
       "    </tr>\n",
       "    <tr>\n",
       "      <th>1</th>\n",
       "      <td>21</td>\n",
       "      <td>Female</td>\n",
       "      <td>Computer Science</td>\n",
       "      <td>0</td>\n",
       "      <td>7</td>\n",
       "      <td>1</td>\n",
       "      <td>1</td>\n",
       "      <td>1</td>\n",
       "    </tr>\n",
       "    <tr>\n",
       "      <th>2</th>\n",
       "      <td>22</td>\n",
       "      <td>Female</td>\n",
       "      <td>Information Technology</td>\n",
       "      <td>1</td>\n",
       "      <td>6</td>\n",
       "      <td>0</td>\n",
       "      <td>0</td>\n",
       "      <td>1</td>\n",
       "    </tr>\n",
       "    <tr>\n",
       "      <th>3</th>\n",
       "      <td>21</td>\n",
       "      <td>Male</td>\n",
       "      <td>Information Technology</td>\n",
       "      <td>0</td>\n",
       "      <td>8</td>\n",
       "      <td>0</td>\n",
       "      <td>1</td>\n",
       "      <td>1</td>\n",
       "    </tr>\n",
       "    <tr>\n",
       "      <th>4</th>\n",
       "      <td>22</td>\n",
       "      <td>Male</td>\n",
       "      <td>Mechanical</td>\n",
       "      <td>0</td>\n",
       "      <td>8</td>\n",
       "      <td>1</td>\n",
       "      <td>0</td>\n",
       "      <td>1</td>\n",
       "    </tr>\n",
       "  </tbody>\n",
       "</table>\n",
       "</div>"
      ],
      "text/plain": [
       "   Age  Gender                         Stream  Internships  CGPA  Hostel  \\\n",
       "0   22    Male  Electronics And Communication            1     8       1   \n",
       "1   21  Female               Computer Science            0     7       1   \n",
       "2   22  Female         Information Technology            1     6       0   \n",
       "3   21    Male         Information Technology            0     8       0   \n",
       "4   22    Male                     Mechanical            0     8       1   \n",
       "\n",
       "   HistoryOfBacklogs  PlacedOrNot  \n",
       "0                  1            1  \n",
       "1                  1            1  \n",
       "2                  0            1  \n",
       "3                  1            1  \n",
       "4                  0            1  "
      ]
     },
     "execution_count": 54,
     "metadata": {},
     "output_type": "execute_result"
    }
   ],
   "source": [
    "df.head()"
   ]
  },
  {
   "cell_type": "markdown",
   "id": "20f40a59",
   "metadata": {},
   "source": [
    "**And now we will check the dependency of the placement rate on the backlogs**"
   ]
  },
  {
   "cell_type": "code",
   "execution_count": 55,
   "id": "47af4c78",
   "metadata": {},
   "outputs": [],
   "source": [
    "df_backlogs = pd.crosstab(df.HistoryOfBacklogs,df.PlacedOrNot)"
   ]
  },
  {
   "cell_type": "code",
   "execution_count": 56,
   "id": "71a60391",
   "metadata": {},
   "outputs": [],
   "source": [
    "df_backlogs.set_axis([\"Not_Placed\",\"Placed\"],axis=1,inplace=True)"
   ]
  },
  {
   "cell_type": "code",
   "execution_count": 57,
   "id": "b08a0b42",
   "metadata": {},
   "outputs": [],
   "source": [
    "df_backlogs.set_axis([\"Do not have any Backlog\",\"Have a Backlog\"],axis=0,inplace=True)"
   ]
  },
  {
   "cell_type": "code",
   "execution_count": 58,
   "id": "9fc1afbb",
   "metadata": {},
   "outputs": [],
   "source": [
    "#Set index and column names\n",
    "df_backlogs[\"%Placed\"]=df_backlogs[\"Placed\"]/df_backlogs.apply(sum, axis=1)\n",
    "df_backlogs[\"%Not_Placed\"] = df_backlogs[\"Not_Placed\"]/df_backlogs.apply(sum, axis=1)"
   ]
  },
  {
   "cell_type": "code",
   "execution_count": 59,
   "id": "2015cb02",
   "metadata": {
    "scrolled": false
   },
   "outputs": [
    {
     "data": {
      "text/html": [
       "<div>\n",
       "<style scoped>\n",
       "    .dataframe tbody tr th:only-of-type {\n",
       "        vertical-align: middle;\n",
       "    }\n",
       "\n",
       "    .dataframe tbody tr th {\n",
       "        vertical-align: top;\n",
       "    }\n",
       "\n",
       "    .dataframe thead th {\n",
       "        text-align: right;\n",
       "    }\n",
       "</style>\n",
       "<table border=\"1\" class=\"dataframe\">\n",
       "  <thead>\n",
       "    <tr style=\"text-align: right;\">\n",
       "      <th></th>\n",
       "      <th>Not_Placed</th>\n",
       "      <th>Placed</th>\n",
       "      <th>%Placed</th>\n",
       "      <th>%Not_Placed</th>\n",
       "    </tr>\n",
       "  </thead>\n",
       "  <tbody>\n",
       "    <tr>\n",
       "      <th>Do not have any Backlog</th>\n",
       "      <td>1220</td>\n",
       "      <td>1659</td>\n",
       "      <td>0.576242</td>\n",
       "      <td>0.423673</td>\n",
       "    </tr>\n",
       "    <tr>\n",
       "      <th>Have a Backlog</th>\n",
       "      <td>313</td>\n",
       "      <td>374</td>\n",
       "      <td>0.544396</td>\n",
       "      <td>0.455243</td>\n",
       "    </tr>\n",
       "  </tbody>\n",
       "</table>\n",
       "</div>"
      ],
      "text/plain": [
       "                         Not_Placed  Placed   %Placed  %Not_Placed\n",
       "Do not have any Backlog        1220    1659  0.576242     0.423673\n",
       "Have a Backlog                  313     374  0.544396     0.455243"
      ]
     },
     "execution_count": 59,
     "metadata": {},
     "output_type": "execute_result"
    }
   ],
   "source": [
    "df_backlogs"
   ]
  },
  {
   "cell_type": "code",
   "execution_count": 60,
   "id": "88ca8c8e",
   "metadata": {},
   "outputs": [
    {
     "data": {
      "image/png": "[encoded data removed]",
      "text/plain": [
       "<Figure size 600x400 with 1 Axes>"
      ]
     },
     "metadata": {
      "needs_background": "light"
     },
     "output_type": "display_data"
    }
   ],
   "source": [
    "plt.figure(dpi=100)\n",
    "\n",
    "bin_width = 0.3\n",
    "epsiln = 0.01\n",
    "plt.bar(df_backlogs.index,df_backlogs.Placed,width=bin_width)\n",
    "plt.bar(np.arange(2) + bin_width + epsiln , df_backlogs.Not_Placed , width= bin_width)\n",
    "plt.xticks(np.arange(2) + bin_width/2,df_backlogs.index)\n",
    "plt.legend([\"Placed\",\"Not_Placed\"])\n",
    "plt.ylabel(\"Size of People\")\n",
    "plt.xlabel(\"Wheather have any Backlog or not\")\n",
    "plt.title(\"Backlogs & Placement Size\")\n",
    "plt.show()"
   ]
  },
  {
   "cell_type": "markdown",
   "id": "62451f46",
   "metadata": {},
   "source": [
    "## Now we try to deal with categorical variables"
   ]
  },
  {
   "cell_type": "code",
   "execution_count": 61,
   "id": "b31f0717",
   "metadata": {},
   "outputs": [
    {
     "name": "stdout",
     "output_type": "stream",
     "text": [
      "<class 'pandas.core.frame.DataFrame'>\n",
      "RangeIndex: 3566 entries, 0 to 3565\n",
      "Data columns (total 8 columns):\n",
      " #   Column             Non-Null Count  Dtype \n",
      "---  ------             --------------  ----- \n",
      " 0   Age                3566 non-null   int64 \n",
      " 1   Gender             3566 non-null   object\n",
      " 2   Stream             3566 non-null   object\n",
      " 3   Internships        3566 non-null   int64 \n",
      " 4   CGPA               3566 non-null   int64 \n",
      " 5   Hostel             3566 non-null   int64 \n",
      " 6   HistoryOfBacklogs  3566 non-null   int64 \n",
      " 7   PlacedOrNot        3566 non-null   int64 \n",
      "dtypes: int64(6), object(2)\n",
      "memory usage: 223.0+ KB\n"
     ]
    }
   ],
   "source": [
    "df.info()"
   ]
  },
  {
   "cell_type": "code",
   "execution_count": 62,
   "id": "470042b1",
   "metadata": {
    "scrolled": true
   },
   "outputs": [
    {
     "data": {
      "text/html": [
       "<div>\n",
       "<style scoped>\n",
       "    .dataframe tbody tr th:only-of-type {\n",
       "        vertical-align: middle;\n",
       "    }\n",
       "\n",
       "    .dataframe tbody tr th {\n",
       "        vertical-align: top;\n",
       "    }\n",
       "\n",
       "    .dataframe thead th {\n",
       "        text-align: right;\n",
       "    }\n",
       "</style>\n",
       "<table border=\"1\" class=\"dataframe\">\n",
       "  <thead>\n",
       "    <tr style=\"text-align: right;\">\n",
       "      <th></th>\n",
       "      <th>Age</th>\n",
       "      <th>Internships</th>\n",
       "      <th>CGPA</th>\n",
       "      <th>Hostel</th>\n",
       "      <th>HistoryOfBacklogs</th>\n",
       "      <th>PlacedOrNot</th>\n",
       "      <th>Gender_Male</th>\n",
       "      <th>Stream_Computer Science</th>\n",
       "      <th>Stream_Electrical</th>\n",
       "      <th>Stream_Electronics And Communication</th>\n",
       "      <th>Stream_Information Technology</th>\n",
       "      <th>Stream_Mechanical</th>\n",
       "    </tr>\n",
       "  </thead>\n",
       "  <tbody>\n",
       "    <tr>\n",
       "      <th>0</th>\n",
       "      <td>22</td>\n",
       "      <td>1</td>\n",
       "      <td>8</td>\n",
       "      <td>1</td>\n",
       "      <td>1</td>\n",
       "      <td>1</td>\n",
       "      <td>1</td>\n",
       "      <td>0</td>\n",
       "      <td>0</td>\n",
       "      <td>1</td>\n",
       "      <td>0</td>\n",
       "      <td>0</td>\n",
       "    </tr>\n",
       "    <tr>\n",
       "      <th>1</th>\n",
       "      <td>21</td>\n",
       "      <td>0</td>\n",
       "      <td>7</td>\n",
       "      <td>1</td>\n",
       "      <td>1</td>\n",
       "      <td>1</td>\n",
       "      <td>0</td>\n",
       "      <td>1</td>\n",
       "      <td>0</td>\n",
       "      <td>0</td>\n",
       "      <td>0</td>\n",
       "      <td>0</td>\n",
       "    </tr>\n",
       "    <tr>\n",
       "      <th>2</th>\n",
       "      <td>22</td>\n",
       "      <td>1</td>\n",
       "      <td>6</td>\n",
       "      <td>0</td>\n",
       "      <td>0</td>\n",
       "      <td>1</td>\n",
       "      <td>0</td>\n",
       "      <td>0</td>\n",
       "      <td>0</td>\n",
       "      <td>0</td>\n",
       "      <td>1</td>\n",
       "      <td>0</td>\n",
       "    </tr>\n",
       "    <tr>\n",
       "      <th>3</th>\n",
       "      <td>21</td>\n",
       "      <td>0</td>\n",
       "      <td>8</td>\n",
       "      <td>0</td>\n",
       "      <td>1</td>\n",
       "      <td>1</td>\n",
       "      <td>1</td>\n",
       "      <td>0</td>\n",
       "      <td>0</td>\n",
       "      <td>0</td>\n",
       "      <td>1</td>\n",
       "      <td>0</td>\n",
       "    </tr>\n",
       "    <tr>\n",
       "      <th>4</th>\n",
       "      <td>22</td>\n",
       "      <td>0</td>\n",
       "      <td>8</td>\n",
       "      <td>1</td>\n",
       "      <td>0</td>\n",
       "      <td>1</td>\n",
       "      <td>1</td>\n",
       "      <td>0</td>\n",
       "      <td>0</td>\n",
       "      <td>0</td>\n",
       "      <td>0</td>\n",
       "      <td>1</td>\n",
       "    </tr>\n",
       "  </tbody>\n",
       "</table>\n",
       "</div>"
      ],
      "text/plain": [
       "   Age  Internships  CGPA  Hostel  HistoryOfBacklogs  PlacedOrNot  \\\n",
       "0   22            1     8       1                  1            1   \n",
       "1   21            0     7       1                  1            1   \n",
       "2   22            1     6       0                  0            1   \n",
       "3   21            0     8       0                  1            1   \n",
       "4   22            0     8       1                  0            1   \n",
       "\n",
       "   Gender_Male  Stream_Computer Science  Stream_Electrical  \\\n",
       "0            1                        0                  0   \n",
       "1            0                        1                  0   \n",
       "2            0                        0                  0   \n",
       "3            1                        0                  0   \n",
       "4            1                        0                  0   \n",
       "\n",
       "   Stream_Electronics And Communication  Stream_Information Technology  \\\n",
       "0                                     1                              0   \n",
       "1                                     0                              0   \n",
       "2                                     0                              1   \n",
       "3                                     0                              1   \n",
       "4                                     0                              0   \n",
       "\n",
       "   Stream_Mechanical  \n",
       "0                  0  \n",
       "1                  0  \n",
       "2                  0  \n",
       "3                  0  \n",
       "4                  1  "
      ]
     },
     "execution_count": 62,
     "metadata": {},
     "output_type": "execute_result"
    }
   ],
   "source": [
    "dummies=pd.get_dummies(df,drop_first=True);dummies.head()"
   ]
  },
  {
   "cell_type": "code",
   "execution_count": 63,
   "id": "19e92d8a",
   "metadata": {},
   "outputs": [],
   "source": [
    "dummies = dummies.loc[:,[\"Age\",\"Gender_Male\",\"Internships\",\"CGPA\",\"Hostel\",\"HistoryOfBacklogs\",\"Stream_Computer Science\",\"Stream_Electronics And Communication\",\"Stream_Information Technology\",\"Stream_Mechanical\",\"PlacedOrNot\"]]"
   ]
  },
  {
   "cell_type": "code",
   "execution_count": 64,
   "id": "6ce24f35",
   "metadata": {},
   "outputs": [
    {
     "data": {
      "text/html": [
       "<div>\n",
       "<style scoped>\n",
       "    .dataframe tbody tr th:only-of-type {\n",
       "        vertical-align: middle;\n",
       "    }\n",
       "\n",
       "    .dataframe tbody tr th {\n",
       "        vertical-align: top;\n",
       "    }\n",
       "\n",
       "    .dataframe thead th {\n",
       "        text-align: right;\n",
       "    }\n",
       "</style>\n",
       "<table border=\"1\" class=\"dataframe\">\n",
       "  <thead>\n",
       "    <tr style=\"text-align: right;\">\n",
       "      <th></th>\n",
       "      <th>Age</th>\n",
       "      <th>Gender_Male</th>\n",
       "      <th>Internships</th>\n",
       "      <th>CGPA</th>\n",
       "      <th>Hostel</th>\n",
       "      <th>HistoryOfBacklogs</th>\n",
       "      <th>Stream_Computer Science</th>\n",
       "      <th>Stream_Electronics And Communication</th>\n",
       "      <th>Stream_Information Technology</th>\n",
       "      <th>Stream_Mechanical</th>\n",
       "      <th>PlacedOrNot</th>\n",
       "    </tr>\n",
       "  </thead>\n",
       "  <tbody>\n",
       "    <tr>\n",
       "      <th>0</th>\n",
       "      <td>22</td>\n",
       "      <td>1</td>\n",
       "      <td>1</td>\n",
       "      <td>8</td>\n",
       "      <td>1</td>\n",
       "      <td>1</td>\n",
       "      <td>0</td>\n",
       "      <td>1</td>\n",
       "      <td>0</td>\n",
       "      <td>0</td>\n",
       "      <td>1</td>\n",
       "    </tr>\n",
       "    <tr>\n",
       "      <th>1</th>\n",
       "      <td>21</td>\n",
       "      <td>0</td>\n",
       "      <td>0</td>\n",
       "      <td>7</td>\n",
       "      <td>1</td>\n",
       "      <td>1</td>\n",
       "      <td>1</td>\n",
       "      <td>0</td>\n",
       "      <td>0</td>\n",
       "      <td>0</td>\n",
       "      <td>1</td>\n",
       "    </tr>\n",
       "    <tr>\n",
       "      <th>2</th>\n",
       "      <td>22</td>\n",
       "      <td>0</td>\n",
       "      <td>1</td>\n",
       "      <td>6</td>\n",
       "      <td>0</td>\n",
       "      <td>0</td>\n",
       "      <td>0</td>\n",
       "      <td>0</td>\n",
       "      <td>1</td>\n",
       "      <td>0</td>\n",
       "      <td>1</td>\n",
       "    </tr>\n",
       "    <tr>\n",
       "      <th>3</th>\n",
       "      <td>21</td>\n",
       "      <td>1</td>\n",
       "      <td>0</td>\n",
       "      <td>8</td>\n",
       "      <td>0</td>\n",
       "      <td>1</td>\n",
       "      <td>0</td>\n",
       "      <td>0</td>\n",
       "      <td>1</td>\n",
       "      <td>0</td>\n",
       "      <td>1</td>\n",
       "    </tr>\n",
       "    <tr>\n",
       "      <th>4</th>\n",
       "      <td>22</td>\n",
       "      <td>1</td>\n",
       "      <td>0</td>\n",
       "      <td>8</td>\n",
       "      <td>1</td>\n",
       "      <td>0</td>\n",
       "      <td>0</td>\n",
       "      <td>0</td>\n",
       "      <td>0</td>\n",
       "      <td>1</td>\n",
       "      <td>1</td>\n",
       "    </tr>\n",
       "    <tr>\n",
       "      <th>...</th>\n",
       "      <td>...</td>\n",
       "      <td>...</td>\n",
       "      <td>...</td>\n",
       "      <td>...</td>\n",
       "      <td>...</td>\n",
       "      <td>...</td>\n",
       "      <td>...</td>\n",
       "      <td>...</td>\n",
       "      <td>...</td>\n",
       "      <td>...</td>\n",
       "      <td>...</td>\n",
       "    </tr>\n",
       "    <tr>\n",
       "      <th>3561</th>\n",
       "      <td>22</td>\n",
       "      <td>1</td>\n",
       "      <td>0</td>\n",
       "      <td>7</td>\n",
       "      <td>1</td>\n",
       "      <td>1</td>\n",
       "      <td>0</td>\n",
       "      <td>0</td>\n",
       "      <td>0</td>\n",
       "      <td>1</td>\n",
       "      <td>0</td>\n",
       "    </tr>\n",
       "    <tr>\n",
       "      <th>3562</th>\n",
       "      <td>22</td>\n",
       "      <td>1</td>\n",
       "      <td>2</td>\n",
       "      <td>8</td>\n",
       "      <td>0</td>\n",
       "      <td>0</td>\n",
       "      <td>0</td>\n",
       "      <td>0</td>\n",
       "      <td>1</td>\n",
       "      <td>0</td>\n",
       "      <td>1</td>\n",
       "    </tr>\n",
       "    <tr>\n",
       "      <th>3563</th>\n",
       "      <td>22</td>\n",
       "      <td>0</td>\n",
       "      <td>0</td>\n",
       "      <td>6</td>\n",
       "      <td>1</td>\n",
       "      <td>1</td>\n",
       "      <td>1</td>\n",
       "      <td>0</td>\n",
       "      <td>0</td>\n",
       "      <td>0</td>\n",
       "      <td>0</td>\n",
       "    </tr>\n",
       "    <tr>\n",
       "      <th>3564</th>\n",
       "      <td>21</td>\n",
       "      <td>1</td>\n",
       "      <td>2</td>\n",
       "      <td>6</td>\n",
       "      <td>0</td>\n",
       "      <td>0</td>\n",
       "      <td>0</td>\n",
       "      <td>0</td>\n",
       "      <td>1</td>\n",
       "      <td>0</td>\n",
       "      <td>1</td>\n",
       "    </tr>\n",
       "    <tr>\n",
       "      <th>3565</th>\n",
       "      <td>22</td>\n",
       "      <td>1</td>\n",
       "      <td>0</td>\n",
       "      <td>8</td>\n",
       "      <td>0</td>\n",
       "      <td>1</td>\n",
       "      <td>0</td>\n",
       "      <td>0</td>\n",
       "      <td>0</td>\n",
       "      <td>0</td>\n",
       "      <td>1</td>\n",
       "    </tr>\n",
       "  </tbody>\n",
       "</table>\n",
       "<p>3566 rows × 11 columns</p>\n",
       "</div>"
      ],
      "text/plain": [
       "      Age  Gender_Male  Internships  CGPA  Hostel  HistoryOfBacklogs  \\\n",
       "0      22            1            1     8       1                  1   \n",
       "1      21            0            0     7       1                  1   \n",
       "2      22            0            1     6       0                  0   \n",
       "3      21            1            0     8       0                  1   \n",
       "4      22            1            0     8       1                  0   \n",
       "...   ...          ...          ...   ...     ...                ...   \n",
       "3561   22            1            0     7       1                  1   \n",
       "3562   22            1            2     8       0                  0   \n",
       "3563   22            0            0     6       1                  1   \n",
       "3564   21            1            2     6       0                  0   \n",
       "3565   22            1            0     8       0                  1   \n",
       "\n",
       "      Stream_Computer Science  Stream_Electronics And Communication  \\\n",
       "0                           0                                     1   \n",
       "1                           1                                     0   \n",
       "2                           0                                     0   \n",
       "3                           0                                     0   \n",
       "4                           0                                     0   \n",
       "...                       ...                                   ...   \n",
       "3561                        0                                     0   \n",
       "3562                        0                                     0   \n",
       "3563                        1                                     0   \n",
       "3564                        0                                     0   \n",
       "3565                        0                                     0   \n",
       "\n",
       "      Stream_Information Technology  Stream_Mechanical  PlacedOrNot  \n",
       "0                                 0                  0            1  \n",
       "1                                 0                  0            1  \n",
       "2                                 1                  0            1  \n",
       "3                                 1                  0            1  \n",
       "4                                 0                  1            1  \n",
       "...                             ...                ...          ...  \n",
       "3561                              0                  1            0  \n",
       "3562                              1                  0            1  \n",
       "3563                              0                  0            0  \n",
       "3564                              1                  0            1  \n",
       "3565                              0                  0            1  \n",
       "\n",
       "[3566 rows x 11 columns]"
      ]
     },
     "execution_count": 64,
     "metadata": {},
     "output_type": "execute_result"
    }
   ],
   "source": [
    "dummies"
   ]
  },
  {
   "cell_type": "code",
   "execution_count": 65,
   "id": "373e8106",
   "metadata": {},
   "outputs": [],
   "source": [
    "#Now let's seperate Features and Targets\n",
    "X = dummies.iloc[:,0:-1]\n",
    "y = dummies[\"PlacedOrNot\"]"
   ]
  },
  {
   "cell_type": "markdown",
   "id": "a31a1ff6",
   "metadata": {},
   "source": [
    "## 5. Scaling DataFrame and Build Models\n",
    "\n",
    "    Since Age, CGPA and other features have different scala from each other, we better apply standardization\n",
    "    to our model to have common scale"
   ]
  },
  {
   "cell_type": "code",
   "execution_count": 66,
   "id": "9f8a8ebc",
   "metadata": {},
   "outputs": [],
   "source": [
    "from sklearn.preprocessing import StandardScaler"
   ]
  },
  {
   "cell_type": "code",
   "execution_count": 67,
   "id": "d8d68e8e",
   "metadata": {},
   "outputs": [
    {
     "name": "stdout",
     "output_type": "stream",
     "text": [
      "StandardScaler()\n"
     ]
    }
   ],
   "source": [
    "scaler = StandardScaler()\n",
    "print(scaler.fit(X))"
   ]
  },
  {
   "cell_type": "code",
   "execution_count": 68,
   "id": "8e71f798",
   "metadata": {},
   "outputs": [],
   "source": [
    "scaled_data = pd.DataFrame(scaler.transform(X),columns=dummies.columns[:-1])"
   ]
  },
  {
   "cell_type": "code",
   "execution_count": 69,
   "id": "c2f1ab86",
   "metadata": {},
   "outputs": [],
   "source": [
    "from sklearn.model_selection import train_test_split"
   ]
  },
  {
   "cell_type": "code",
   "execution_count": 70,
   "id": "09db90a5",
   "metadata": {},
   "outputs": [],
   "source": [
    "X_train, X_test, y_train, y_test =train_test_split(scaled_data,y,test_size=0.2,random_state=42, stratify=y)"
   ]
  },
  {
   "cell_type": "markdown",
   "id": "c2ca6785",
   "metadata": {},
   "source": [
    "## 5.1 Models\n",
    "    In models, I will build up base models and do some parameter tuning for 1 model. Then I will show GridSearch and how to do parameter tuning.\n",
    "###   5.1.1 KNeighbors Classifier"
   ]
  },
  {
   "cell_type": "code",
   "execution_count": 71,
   "id": "2703c18e",
   "metadata": {},
   "outputs": [],
   "source": [
    "from sklearn.metrics import confusion_matrix, accuracy_score, mean_squared_error, roc_auc_score,roc_curve, classification_report\n",
    "from sklearn.neighbors import KNeighborsClassifier"
   ]
  },
  {
   "cell_type": "code",
   "execution_count": 72,
   "id": "920f334e",
   "metadata": {},
   "outputs": [],
   "source": [
    "scores=[]\n",
    "for i in range(1,15):\n",
    "    KNN=KNeighborsClassifier(n_neighbors=i)\n",
    "    KNN.fit(X_train,y_train)\n",
    "    y_pred = KNN.predict(X_test)\n",
    "    scores.append([i,np.array(KNN.score(X_test,y_test))])"
   ]
  },
  {
   "cell_type": "code",
   "execution_count": 73,
   "id": "0fc71d93",
   "metadata": {},
   "outputs": [],
   "source": [
    "knn_scores = pd.DataFrame(scores, columns=[\"Neighbors\",\"KNN_Score\"]).set_index(\"Neighbors\")"
   ]
  },
  {
   "cell_type": "code",
   "execution_count": 74,
   "id": "39c4f970",
   "metadata": {},
   "outputs": [
    {
     "data": {
      "image/png": "[encoded data removed]",
      "text/plain": [
       "<Figure size 600x400 with 1 Axes>"
      ]
     },
     "metadata": {
      "needs_background": "light"
     },
     "output_type": "display_data"
    }
   ],
   "source": [
    "plt.figure(dpi=100)\n",
    "plt.plot(knn_scores.index,knn_scores.KNN_Score)\n",
    "plt.xlabel(\"Neighbors\")\n",
    "plt.ylabel(\"Scores\")\n",
    "plt.show()"
   ]
  },
  {
   "cell_type": "code",
   "execution_count": 75,
   "id": "f1e50a85",
   "metadata": {},
   "outputs": [
    {
     "name": "stdout",
     "output_type": "stream",
     "text": [
      "Test Accuracy: 0.8445378151260504\n"
     ]
    }
   ],
   "source": [
    "knn = KNeighborsClassifier(n_neighbors=2)\n",
    "knn.fit(X_train,y_train)\n",
    "y_pred = knn.predict(X_test)\n",
    "print('Test Accuracy:', accuracy_score(y_test, y_pred))"
   ]
  },
  {
   "cell_type": "markdown",
   "id": "cc754ad7",
   "metadata": {},
   "source": [
    "### 5.1.2 Decision Tree Classifier with Bagging Classifier\n",
    "    Now we use Decision Tree Classifier with Bagging Classifier. In base model, decision tree classifier would over fit. But in bagging classifier, we want this model to overfit to obtain best results since bagging classifier obtain datasets out of our original dataset and for each dataset, fits a tree in that data. At the end it calculate average error. Thus it is okay to overfit for a model. So that is okay to overfit since we will solve this problem with constructing more trees. "
   ]
  },
  {
   "cell_type": "code",
   "execution_count": 76,
   "id": "7287e7f7",
   "metadata": {},
   "outputs": [],
   "source": [
    "from sklearn.ensemble import BaggingClassifier\n",
    "from sklearn.tree import DecisionTreeClassifier"
   ]
  },
  {
   "cell_type": "code",
   "execution_count": 77,
   "id": "cbb6271c",
   "metadata": {},
   "outputs": [
    {
     "data": {
      "text/plain": [
       "BaggingClassifier(base_estimator=DecisionTreeClassifier(), n_estimators=100,\n",
       "                  oob_score=True, random_state=42)"
      ]
     },
     "execution_count": 77,
     "metadata": {},
     "output_type": "execute_result"
    }
   ],
   "source": [
    "tree = DecisionTreeClassifier()\n",
    "bag =BaggingClassifier(tree, n_estimators=100, random_state=42,oob_score=True)\n",
    "bag.fit(X_train,y_train)"
   ]
  },
  {
   "cell_type": "code",
   "execution_count": 78,
   "id": "fa62a4a9",
   "metadata": {},
   "outputs": [
    {
     "name": "stdout",
     "output_type": "stream",
     "text": [
      "Test Accuracy:  0.8599439775910365 Oob_Accuracy:  0.8797335203366059\n"
     ]
    }
   ],
   "source": [
    "y_pred = bag.predict(X_test)\n",
    "print(\"Test Accuracy: \", accuracy_score(y_test,y_pred),\"Oob_Accuracy: \", bag.oob_score_)"
   ]
  },
  {
   "cell_type": "markdown",
   "id": "ac031952",
   "metadata": {},
   "source": [
    "**Oob score** is similar to cross validation. While we produce datasets, we exclude some data. So, after construct our model, we calculate error with excluded data. That's called out of bag score. We can use oob score for model selection without using cross validation.\n",
    "\n",
    "**In this method** model interpretibility is low since there are so many trees and we cannot see the trees.\n",
    "Bagging classifier may be biased since trees are similar to each other. That's why we will do Random Forest Classifier."
   ]
  },
  {
   "cell_type": "markdown",
   "id": "944af1c5",
   "metadata": {},
   "source": [
    "### 5.1.3 Random Forest Classifier\n",
    "In the Random Forest Classifier, instead of taking all feature, we randomly select features. Thus we add randomness to our model. This tree is generally perform better."
   ]
  },
  {
   "cell_type": "code",
   "execution_count": 79,
   "id": "cc29b82b",
   "metadata": {},
   "outputs": [],
   "source": [
    "from sklearn.ensemble import RandomForestClassifier"
   ]
  },
  {
   "cell_type": "code",
   "execution_count": 80,
   "id": "3f2aead0",
   "metadata": {},
   "outputs": [
    {
     "data": {
      "text/plain": [
       "RandomForestClassifier()"
      ]
     },
     "execution_count": 80,
     "metadata": {},
     "output_type": "execute_result"
    }
   ],
   "source": [
    "RandomForestClassifier()"
   ]
  },
  {
   "cell_type": "markdown",
   "id": "4ccfd7b0",
   "metadata": {},
   "source": [
    "Let's check some attributes meaning\n",
    "\n",
    "**n_estimators** : The number of trees in the forest. Default= 100\n",
    "\n",
    "**max_features** : {\"auto\", \"sqrt\", \"log2\"} The number of features to consider when looking for the best split.\n",
    " - If int, then consider `max_features` features at each split.\n",
    " - If float, then `max_features` is a fraction and `round(max_features * n_features)` features are considered at each split.\n",
    " - If \"auto\", then `max_features=sqrt(n_features)`.\n",
    " - If \"sqrt\", then `max_features=sqrt(n_features)` (same as \"auto\").\n",
    " - If \"log2\", then `max_features=log2(n_features)`.  \n",
    " - If None, then `max_features=n_features`."
   ]
  },
  {
   "cell_type": "code",
   "execution_count": 81,
   "id": "860aad7f",
   "metadata": {},
   "outputs": [
    {
     "name": "stdout",
     "output_type": "stream",
     "text": [
      "Test Accuracy: 0.8571428571428571 Oob Accuracy: 0.8779803646563815\n"
     ]
    }
   ],
   "source": [
    "clf = RandomForestClassifier(random_state=42 , n_estimators = 100,oob_score=True)\n",
    "clf.fit(X_train,y_train)\n",
    "y_pred = clf.predict(X_test)\n",
    "print('Test Accuracy:', accuracy_score(y_test, y_pred),'Oob Accuracy:',clf.oob_score_)"
   ]
  },
  {
   "cell_type": "markdown",
   "id": "7372bd79",
   "metadata": {},
   "source": [
    "This was our base model. \n",
    "\n",
    "Let's try different number of trees to tune our model."
   ]
  },
  {
   "cell_type": "code",
   "execution_count": 82,
   "id": "55cd85e1",
   "metadata": {},
   "outputs": [
    {
     "data": {
      "text/html": [
       "<div>\n",
       "<style scoped>\n",
       "    .dataframe tbody tr th:only-of-type {\n",
       "        vertical-align: middle;\n",
       "    }\n",
       "\n",
       "    .dataframe tbody tr th {\n",
       "        vertical-align: top;\n",
       "    }\n",
       "\n",
       "    .dataframe thead th {\n",
       "        text-align: right;\n",
       "    }\n",
       "</style>\n",
       "<table border=\"1\" class=\"dataframe\">\n",
       "  <thead>\n",
       "    <tr style=\"text-align: right;\">\n",
       "      <th></th>\n",
       "      <th>Number_of_Trees</th>\n",
       "      <th>Oob_Accuracy</th>\n",
       "    </tr>\n",
       "  </thead>\n",
       "  <tbody>\n",
       "    <tr>\n",
       "      <th>0</th>\n",
       "      <td>50</td>\n",
       "      <td>0.8748246844319776</td>\n",
       "    </tr>\n",
       "    <tr>\n",
       "      <th>1</th>\n",
       "      <td>100</td>\n",
       "      <td>0.8779803646563815</td>\n",
       "    </tr>\n",
       "    <tr>\n",
       "      <th>2</th>\n",
       "      <td>150</td>\n",
       "      <td>0.8772791023842917</td>\n",
       "    </tr>\n",
       "    <tr>\n",
       "      <th>3</th>\n",
       "      <td>200</td>\n",
       "      <td>0.8748246844319776</td>\n",
       "    </tr>\n",
       "    <tr>\n",
       "      <th>4</th>\n",
       "      <td>250</td>\n",
       "      <td>0.8772791023842917</td>\n",
       "    </tr>\n",
       "    <tr>\n",
       "      <th>5</th>\n",
       "      <td>300</td>\n",
       "      <td>0.8776297335203366</td>\n",
       "    </tr>\n",
       "    <tr>\n",
       "      <th>6</th>\n",
       "      <td>350</td>\n",
       "      <td>0.8790322580645161</td>\n",
       "    </tr>\n",
       "    <tr>\n",
       "      <th>7</th>\n",
       "      <td>400</td>\n",
       "      <td>0.8786816269284713</td>\n",
       "    </tr>\n",
       "    <tr>\n",
       "      <th>8</th>\n",
       "      <td>450</td>\n",
       "      <td>0.8807854137447405</td>\n",
       "    </tr>\n",
       "    <tr>\n",
       "      <th>9</th>\n",
       "      <td>500</td>\n",
       "      <td>0.8804347826086957</td>\n",
       "    </tr>\n",
       "    <tr>\n",
       "      <th>10</th>\n",
       "      <td>550</td>\n",
       "      <td>0.8786816269284713</td>\n",
       "    </tr>\n",
       "  </tbody>\n",
       "</table>\n",
       "</div>"
      ],
      "text/plain": [
       "    Number_of_Trees        Oob_Accuracy\n",
       "0                50  0.8748246844319776\n",
       "1               100  0.8779803646563815\n",
       "2               150  0.8772791023842917\n",
       "3               200  0.8748246844319776\n",
       "4               250  0.8772791023842917\n",
       "5               300  0.8776297335203366\n",
       "6               350  0.8790322580645161\n",
       "7               400  0.8786816269284713\n",
       "8               450  0.8807854137447405\n",
       "9               500  0.8804347826086957\n",
       "10              550  0.8786816269284713"
      ]
     },
     "execution_count": 82,
     "metadata": {},
     "output_type": "execute_result"
    }
   ],
   "source": [
    "Oob_accuracy=[]\n",
    "for i in np.arange(50,600,50):\n",
    "    clf = RandomForestClassifier(random_state=42,n_estimators = i, oob_score=True)\n",
    "    clf.fit(X_train,y_train)\n",
    "    y_pred = clf.predict(X_test)\n",
    "    Oob_accuracy.append([i,np.array(clf.oob_score_)])\n",
    "\n",
    "df_rfc= pd.DataFrame(Oob_accuracy,columns=[\"Number_of_Trees\",\"Oob_Accuracy\"])\n",
    "df_rfc"
   ]
  },
  {
   "cell_type": "code",
   "execution_count": 83,
   "id": "db531be5",
   "metadata": {
    "scrolled": true
   },
   "outputs": [
    {
     "data": {
      "image/png": "[encoded data removed]",
      "text/plain": [
       "<Figure size 432x288 with 1 Axes>"
      ]
     },
     "metadata": {
      "needs_background": "light"
     },
     "output_type": "display_data"
    }
   ],
   "source": [
    "plt.plot(df_rfc[\"Number_of_Trees\"],df_rfc[\"Oob_Accuracy\"])\n",
    "plt.xlabel(\"Number_of_Trees\")\n",
    "plt.ylabel(\"Accuracy\")\n",
    "plt.show()"
   ]
  },
  {
   "cell_type": "code",
   "execution_count": 84,
   "id": "dc5784d2",
   "metadata": {},
   "outputs": [
    {
     "data": {
      "text/html": [
       "<div>\n",
       "<style scoped>\n",
       "    .dataframe tbody tr th:only-of-type {\n",
       "        vertical-align: middle;\n",
       "    }\n",
       "\n",
       "    .dataframe tbody tr th {\n",
       "        vertical-align: top;\n",
       "    }\n",
       "\n",
       "    .dataframe thead th {\n",
       "        text-align: right;\n",
       "    }\n",
       "</style>\n",
       "<table border=\"1\" class=\"dataframe\">\n",
       "  <thead>\n",
       "    <tr style=\"text-align: right;\">\n",
       "      <th></th>\n",
       "      <th>Number_of_Trees</th>\n",
       "      <th>Oob_Accuracy</th>\n",
       "    </tr>\n",
       "  </thead>\n",
       "  <tbody>\n",
       "    <tr>\n",
       "      <th>8</th>\n",
       "      <td>450</td>\n",
       "      <td>0.8807854137447405</td>\n",
       "    </tr>\n",
       "    <tr>\n",
       "      <th>9</th>\n",
       "      <td>500</td>\n",
       "      <td>0.8804347826086957</td>\n",
       "    </tr>\n",
       "    <tr>\n",
       "      <th>6</th>\n",
       "      <td>350</td>\n",
       "      <td>0.8790322580645161</td>\n",
       "    </tr>\n",
       "    <tr>\n",
       "      <th>7</th>\n",
       "      <td>400</td>\n",
       "      <td>0.8786816269284713</td>\n",
       "    </tr>\n",
       "    <tr>\n",
       "      <th>10</th>\n",
       "      <td>550</td>\n",
       "      <td>0.8786816269284713</td>\n",
       "    </tr>\n",
       "    <tr>\n",
       "      <th>1</th>\n",
       "      <td>100</td>\n",
       "      <td>0.8779803646563815</td>\n",
       "    </tr>\n",
       "    <tr>\n",
       "      <th>5</th>\n",
       "      <td>300</td>\n",
       "      <td>0.8776297335203366</td>\n",
       "    </tr>\n",
       "    <tr>\n",
       "      <th>2</th>\n",
       "      <td>150</td>\n",
       "      <td>0.8772791023842917</td>\n",
       "    </tr>\n",
       "    <tr>\n",
       "      <th>4</th>\n",
       "      <td>250</td>\n",
       "      <td>0.8772791023842917</td>\n",
       "    </tr>\n",
       "    <tr>\n",
       "      <th>0</th>\n",
       "      <td>50</td>\n",
       "      <td>0.8748246844319776</td>\n",
       "    </tr>\n",
       "    <tr>\n",
       "      <th>3</th>\n",
       "      <td>200</td>\n",
       "      <td>0.8748246844319776</td>\n",
       "    </tr>\n",
       "  </tbody>\n",
       "</table>\n",
       "</div>"
      ],
      "text/plain": [
       "    Number_of_Trees        Oob_Accuracy\n",
       "8               450  0.8807854137447405\n",
       "9               500  0.8804347826086957\n",
       "6               350  0.8790322580645161\n",
       "7               400  0.8786816269284713\n",
       "10              550  0.8786816269284713\n",
       "1               100  0.8779803646563815\n",
       "5               300  0.8776297335203366\n",
       "2               150  0.8772791023842917\n",
       "4               250  0.8772791023842917\n",
       "0                50  0.8748246844319776\n",
       "3               200  0.8748246844319776"
      ]
     },
     "execution_count": 84,
     "metadata": {},
     "output_type": "execute_result"
    }
   ],
   "source": [
    "df_rfc.sort_values(by=\"Oob_Accuracy\",ascending=False)"
   ]
  },
  {
   "cell_type": "markdown",
   "id": "81f36f0e",
   "metadata": {},
   "source": [
    "Let's build our model for best Oob Accuracy to calculate Test Accuracy result."
   ]
  },
  {
   "cell_type": "code",
   "execution_count": 85,
   "id": "8d385284",
   "metadata": {},
   "outputs": [
    {
     "name": "stdout",
     "output_type": "stream",
     "text": [
      "Test Accuracy: 0.8529411764705882 Oob Accuracy: 0.8807854137447405\n"
     ]
    }
   ],
   "source": [
    "clf = RandomForestClassifier(random_state=42 , n_estimators = 450, oob_score=True)\n",
    "clf.fit(X_train,y_train)\n",
    "y_pred = clf.predict(X_test)\n",
    "print('Test Accuracy:', accuracy_score(y_test, y_pred),'Oob Accuracy:',clf.oob_score_)"
   ]
  },
  {
   "cell_type": "markdown",
   "id": "023ffa94",
   "metadata": {},
   "source": [
    "And now let's tune max features."
   ]
  },
  {
   "cell_type": "code",
   "execution_count": 86,
   "id": "755996f7",
   "metadata": {},
   "outputs": [
    {
     "data": {
      "text/html": [
       "<div>\n",
       "<style scoped>\n",
       "    .dataframe tbody tr th:only-of-type {\n",
       "        vertical-align: middle;\n",
       "    }\n",
       "\n",
       "    .dataframe tbody tr th {\n",
       "        vertical-align: top;\n",
       "    }\n",
       "\n",
       "    .dataframe thead th {\n",
       "        text-align: right;\n",
       "    }\n",
       "</style>\n",
       "<table border=\"1\" class=\"dataframe\">\n",
       "  <thead>\n",
       "    <tr style=\"text-align: right;\">\n",
       "      <th></th>\n",
       "      <th>Number_of_Features</th>\n",
       "      <th>Oob Accuracy</th>\n",
       "    </tr>\n",
       "  </thead>\n",
       "  <tbody>\n",
       "    <tr>\n",
       "      <th>8</th>\n",
       "      <td>9</td>\n",
       "      <td>0.8832398316970547</td>\n",
       "    </tr>\n",
       "    <tr>\n",
       "      <th>3</th>\n",
       "      <td>4</td>\n",
       "      <td>0.8821879382889201</td>\n",
       "    </tr>\n",
       "    <tr>\n",
       "      <th>4</th>\n",
       "      <td>5</td>\n",
       "      <td>0.8821879382889201</td>\n",
       "    </tr>\n",
       "    <tr>\n",
       "      <th>7</th>\n",
       "      <td>8</td>\n",
       "      <td>0.8821879382889201</td>\n",
       "    </tr>\n",
       "    <tr>\n",
       "      <th>5</th>\n",
       "      <td>6</td>\n",
       "      <td>0.8811360448807855</td>\n",
       "    </tr>\n",
       "    <tr>\n",
       "      <th>9</th>\n",
       "      <td>10</td>\n",
       "      <td>0.8811360448807855</td>\n",
       "    </tr>\n",
       "    <tr>\n",
       "      <th>2</th>\n",
       "      <td>3</td>\n",
       "      <td>0.8807854137447405</td>\n",
       "    </tr>\n",
       "    <tr>\n",
       "      <th>6</th>\n",
       "      <td>7</td>\n",
       "      <td>0.8807854137447405</td>\n",
       "    </tr>\n",
       "    <tr>\n",
       "      <th>1</th>\n",
       "      <td>2</td>\n",
       "      <td>0.8776297335203366</td>\n",
       "    </tr>\n",
       "    <tr>\n",
       "      <th>0</th>\n",
       "      <td>1</td>\n",
       "      <td>0.8758765778401122</td>\n",
       "    </tr>\n",
       "  </tbody>\n",
       "</table>\n",
       "</div>"
      ],
      "text/plain": [
       "   Number_of_Features        Oob Accuracy\n",
       "8                   9  0.8832398316970547\n",
       "3                   4  0.8821879382889201\n",
       "4                   5  0.8821879382889201\n",
       "7                   8  0.8821879382889201\n",
       "5                   6  0.8811360448807855\n",
       "9                  10  0.8811360448807855\n",
       "2                   3  0.8807854137447405\n",
       "6                   7  0.8807854137447405\n",
       "1                   2  0.8776297335203366\n",
       "0                   1  0.8758765778401122"
      ]
     },
     "execution_count": 86,
     "metadata": {},
     "output_type": "execute_result"
    }
   ],
   "source": [
    "Oob_accuracy=[]\n",
    "for i in range(1,11):\n",
    "    clf=RandomForestClassifier(random_state=42,n_estimators=450,max_features=i,oob_score=True)\n",
    "    clf.fit(X_train,y_train)\n",
    "    Oob_accuracy.append([i,np.array(clf.oob_score_)])\n",
    "df_rfc = pd.DataFrame(Oob_accuracy,columns=['Number_of_Features','Oob Accuracy'])\n",
    "df_rfc.sort_values(by=\"Oob Accuracy\", ascending=False)"
   ]
  },
  {
   "cell_type": "markdown",
   "id": "e43bc889",
   "metadata": {},
   "source": [
    "And now let's calculate Test Accuracy with best max features and n estimaters parameter to calculate Oob Accuracy."
   ]
  },
  {
   "cell_type": "code",
   "execution_count": 87,
   "id": "e304e106",
   "metadata": {},
   "outputs": [
    {
     "name": "stdout",
     "output_type": "stream",
     "text": [
      "Test Accuracy: 0.8585434173669467 Oob Accuracy: 0.8832398316970547\n"
     ]
    }
   ],
   "source": [
    "clf=RandomForestClassifier(random_state=42,n_estimators=450,max_features=9,oob_score=True)\n",
    "clf.fit(X_train,y_train)\n",
    "y_pred = clf.predict(X_test)\n",
    "print('Test Accuracy:', accuracy_score(y_test, y_pred),'Oob Accuracy:',clf.oob_score_)"
   ]
  },
  {
   "cell_type": "markdown",
   "id": "1933b6bd",
   "metadata": {},
   "source": [
    "### 5.2 Parameter Tuning\n",
    "    Now instead of applying for loops for each parameter, GridSearchCV can do those steps for us. Let's use GridSearchCv to tune parameters.\n",
    "    \n",
    "### 5.2.1 Parameter Tuning For Random Forest Classifier"
   ]
  },
  {
   "cell_type": "code",
   "execution_count": 88,
   "id": "4b08b92c",
   "metadata": {},
   "outputs": [],
   "source": [
    "from sklearn.model_selection import GridSearchCV"
   ]
  },
  {
   "cell_type": "code",
   "execution_count": 89,
   "id": "cb05e782",
   "metadata": {},
   "outputs": [
    {
     "data": {
      "text/plain": [
       "{'n_estimators': array([ 50, 100, 150, 200, 250, 300, 350, 400, 450, 500, 550]),\n",
       " 'max_features': array([ 1,  2,  3,  4,  5,  6,  7,  8,  9, 10])}"
      ]
     },
     "execution_count": 89,
     "metadata": {},
     "output_type": "execute_result"
    }
   ],
   "source": [
    "clf = RandomForestClassifier(random_state=42)\n",
    "#number of trees in random forest\n",
    "n_estimators = np.arange(50,600,50)\n",
    "#number of features for each split\n",
    "max_features = np.arange(1,11)\n",
    "params = {\n",
    "    \"n_estimators\":n_estimators,\n",
    "    \"max_features\":max_features\n",
    "}\n",
    "params"
   ]
  },
  {
   "cell_type": "markdown",
   "id": "8931dab5",
   "metadata": {},
   "source": [
    "Key value in Params dictionary should be the same with parameter in RandomForestClassifier in terms of spelling."
   ]
  },
  {
   "cell_type": "code",
   "execution_count": 90,
   "id": "5028f3b9",
   "metadata": {},
   "outputs": [
    {
     "name": "stdout",
     "output_type": "stream",
     "text": [
      "Fitting 5 folds for each of 110 candidates, totalling 550 fits\n",
      "{'max_features': 4, 'n_estimators': 250}\n"
     ]
    }
   ],
   "source": [
    "clf_grid = GridSearchCV(estimator=clf,param_grid=params,cv=5,verbose=2,scoring=\"accuracy\",n_jobs=-1)\n",
    "\n",
    "clf_grid.fit(X_train,y_train)\n",
    "\n",
    "print(clf_grid.best_params_)"
   ]
  },
  {
   "cell_type": "code",
   "execution_count": 91,
   "id": "a33b942a",
   "metadata": {},
   "outputs": [
    {
     "name": "stdout",
     "output_type": "stream",
     "text": [
      "Test Accuracy: 0.8557422969187675\n"
     ]
    }
   ],
   "source": [
    "clf=RandomForestClassifier(random_state=42,n_estimators=250,max_features=4,oob_score=True)\n",
    "clf.fit(X_train,y_train)\n",
    "y_pred = clf.predict(X_test)\n",
    "print('Test Accuracy:', accuracy_score(y_test, y_pred))"
   ]
  },
  {
   "cell_type": "markdown",
   "id": "675556f4",
   "metadata": {},
   "source": [
    "**In those processes above, we standardise X_train data. But we also use this standardise data in validation data set. We should standardise just train set not validation set. Thus, in grid search in every iteration we should have standardise over and over again. In order to do that, we can use pipeline.**"
   ]
  },
  {
   "cell_type": "code",
   "execution_count": 92,
   "id": "3da8191b",
   "metadata": {},
   "outputs": [],
   "source": [
    "from sklearn.pipeline import Pipeline"
   ]
  },
  {
   "cell_type": "code",
   "execution_count": 93,
   "id": "e71e4a64",
   "metadata": {},
   "outputs": [],
   "source": [
    "pipe = Pipeline([('scaler',StandardScaler()),('clf', RandomForestClassifier())])"
   ]
  },
  {
   "cell_type": "code",
   "execution_count": 94,
   "id": "9292ad37",
   "metadata": {},
   "outputs": [],
   "source": [
    "# Split data into training and test sets\n",
    "X_train, X_test , y_train, y_test = train_test_split(X, y, test_size=0.2, random_state=1)\n",
    "scaler = StandardScaler()\n",
    "scaler.fit(X_train)\n",
    "X_trainStandard = scaler.transform(X_train)\n",
    "X_testStandard = scaler.transform(X_test)"
   ]
  },
  {
   "cell_type": "code",
   "execution_count": 95,
   "id": "c59ad002",
   "metadata": {},
   "outputs": [
    {
     "name": "stdout",
     "output_type": "stream",
     "text": [
      "Fitting 5 folds for each of 60 candidates, totalling 300 fits\n",
      "{'Random_Forest__max_features': 9, 'Random_Forest__n_estimators': 600}\n"
     ]
    }
   ],
   "source": [
    "rfc=RandomForestClassifier(random_state=42)\n",
    "# number of trees in random forest\n",
    "n_estimators = [100,200,300,400,500,600]\n",
    "# number of features at every split\n",
    "max_features = [1,2,3,4,5,6,7,8,9,10]\n",
    "# create grid\n",
    "params = {\n",
    " 'Random_Forest__n_estimators': n_estimators,\n",
    " 'Random_Forest__max_features': max_features,\n",
    " }\n",
    "\n",
    "pipe = Pipeline([('scaler',StandardScaler()),('Random_Forest', rfc)])\n",
    "\n",
    "\n",
    "rfc_grid = GridSearchCV(estimator = pipe, param_grid = params, cv = 5, verbose=2, scoring='accuracy',n_jobs = -1)\n",
    "\n",
    "rfc_grid.fit(X_train, y_train)\n",
    "\n",
    "print(rfc_grid.best_params_)"
   ]
  },
  {
   "cell_type": "code",
   "execution_count": 96,
   "id": "a9fd8ae7",
   "metadata": {},
   "outputs": [
    {
     "name": "stdout",
     "output_type": "stream",
     "text": [
      "Test Accuracy: 0.8949579831932774\n"
     ]
    }
   ],
   "source": [
    "rfc=RandomForestClassifier(random_state=42,n_estimators=600,max_features=9,oob_score=True)\n",
    "rfc.fit(X_trainStandard,y_train)\n",
    "y_pred_rfc = rfc.predict(X_testStandard)\n",
    "print('Test Accuracy:', accuracy_score(y_test, y_pred_rfc))"
   ]
  },
  {
   "cell_type": "markdown",
   "id": "3b4130c8",
   "metadata": {},
   "source": [
    "Let's add accuracy values in a dictionary"
   ]
  },
  {
   "cell_type": "code",
   "execution_count": 97,
   "id": "285e3c6e",
   "metadata": {},
   "outputs": [],
   "source": [
    "accuracy = {}\n",
    "accuracy[\"Random Forest Classifier\"] = accuracy_score(y_test, y_pred_rfc)"
   ]
  },
  {
   "cell_type": "markdown",
   "id": "7af52e4e",
   "metadata": {},
   "source": [
    "Let's check the importances of features for just Random Forest Classifier"
   ]
  },
  {
   "cell_type": "code",
   "execution_count": 98,
   "id": "6f6bc917",
   "metadata": {
    "scrolled": true
   },
   "outputs": [
    {
     "data": {
      "text/plain": [
       "array([0.13827913, 0.02036822, 0.09242581, 0.62784911, 0.02087236,\n",
       "       0.03037641, 0.02092367, 0.01457991, 0.022308  , 0.01201738])"
      ]
     },
     "execution_count": 98,
     "metadata": {},
     "output_type": "execute_result"
    }
   ],
   "source": [
    "rfc.feature_importances_"
   ]
  },
  {
   "cell_type": "code",
   "execution_count": 99,
   "id": "f0ad6dc6",
   "metadata": {},
   "outputs": [
    {
     "data": {
      "text/plain": [
       "{'Age': 0.13827912973848072,\n",
       " 'Gender_Male': 0.020368218302634702,\n",
       " 'Internships': 0.09242581435759838,\n",
       " 'CGPA': 0.6278491131519531,\n",
       " 'Hostel': 0.020872359880639818,\n",
       " 'HistoryOfBacklogs': 0.030376414324445926,\n",
       " 'Stream_Computer Science': 0.02092366502825687,\n",
       " 'Stream_Electronics And Communication': 0.014579907567608802,\n",
       " 'Stream_Information Technology': 0.02230799873776814,\n",
       " 'Stream_Mechanical': 0.01201737891061356}"
      ]
     },
     "execution_count": 99,
     "metadata": {},
     "output_type": "execute_result"
    }
   ],
   "source": [
    "feats ={}\n",
    "\n",
    "for feature,importances in zip(X.columns, rfc.feature_importances_):\n",
    "    feats[feature]=importances    \n",
    "feats"
   ]
  },
  {
   "cell_type": "code",
   "execution_count": 100,
   "id": "48da35a8",
   "metadata": {},
   "outputs": [],
   "source": [
    "Gini_importance = pd.DataFrame.from_dict(feats, orient=\"index\")"
   ]
  },
  {
   "cell_type": "code",
   "execution_count": 101,
   "id": "1ab2bc34",
   "metadata": {},
   "outputs": [],
   "source": [
    "Gini_importance.set_axis([\"Gini_Importance\"],axis=1, inplace=True)"
   ]
  },
  {
   "cell_type": "code",
   "execution_count": 102,
   "id": "f811cafd",
   "metadata": {
    "scrolled": false
   },
   "outputs": [
    {
     "data": {
      "image/png": "[encoded data removed]",
      "text/plain": [
       "<Figure size 432x288 with 1 Axes>"
      ]
     },
     "metadata": {
      "needs_background": "light"
     },
     "output_type": "display_data"
    }
   ],
   "source": [
    "plt.barh(Gini_importance.index,Gini_importance[\"Gini_Importance\"])\n",
    "plt.xlabel(\"Gini_Coeficciant\")\n",
    "plt.show()"
   ]
  },
  {
   "cell_type": "code",
   "execution_count": 103,
   "id": "44a4bc2e",
   "metadata": {},
   "outputs": [
    {
     "data": {
      "text/plain": [
       "array([[285,  49],\n",
       "       [ 26, 354]], dtype=int64)"
      ]
     },
     "execution_count": 103,
     "metadata": {},
     "output_type": "execute_result"
    }
   ],
   "source": [
    "confusion_matrix(y_pred_rfc,y_test)"
   ]
  },
  {
   "cell_type": "code",
   "execution_count": 104,
   "id": "3a301b71",
   "metadata": {
    "scrolled": false
   },
   "outputs": [
    {
     "name": "stdout",
     "output_type": "stream",
     "text": [
      "              precision    recall  f1-score   support\n",
      "\n",
      "           0       0.92      0.85      0.88       334\n",
      "           1       0.88      0.93      0.90       380\n",
      "\n",
      "    accuracy                           0.89       714\n",
      "   macro avg       0.90      0.89      0.89       714\n",
      "weighted avg       0.90      0.89      0.89       714\n",
      "\n"
     ]
    }
   ],
   "source": [
    "print(classification_report(y_pred_rfc,y_test))"
   ]
  },
  {
   "cell_type": "markdown",
   "id": "5f540b5e",
   "metadata": {},
   "source": [
    "### 5.2.2 Parameter Tuning for KNeighborsClassifier\n",
    "\n",
    "    In KNN processes above, we again standardise X_train data and we did not apply GridSearch. Let's apply GridSearch and pipeline to KNN algorithm. "
   ]
  },
  {
   "cell_type": "code",
   "execution_count": 105,
   "id": "dc66d396",
   "metadata": {
    "scrolled": true
   },
   "outputs": [
    {
     "name": "stdout",
     "output_type": "stream",
     "text": [
      "Fitting 5 folds for each of 120 candidates, totalling 600 fits\n",
      "{'KN_Classifier__algorithm': 'auto', 'KN_Classifier__n_neighbors': 8, 'KN_Classifier__weights': 'distance'}\n"
     ]
    },
    {
     "name": "stderr",
     "output_type": "stream",
     "text": [
      "C:\\Users\\TKA\\anaconda3\\lib\\site-packages\\sklearn\\model_selection\\_search.py:918: UserWarning: One or more of the test scores are non-finite: [       nan        nan 0.83800658 0.83800658 0.83555597 0.84537561\n",
      " 0.83204412 0.84501613 0.83379666 0.85063201 0.82819    0.84958184\n",
      " 0.83029158 0.85519157 0.83309982 0.85974867 0.83520386 0.86220235\n",
      " 0.82924325 0.85834393 0.83029281 0.85939595 0.82888746 0.85904569\n",
      " 0.82328018 0.85939779 0.82432974 0.85869481 0.8190715  0.85694473\n",
      "        nan        nan 0.83905859 0.83905859 0.83204842 0.84467386\n",
      " 0.8313436  0.84431499 0.83134421 0.84957999 0.8253836  0.84782806\n",
      " 0.82923833 0.85378806 0.83239684 0.85939718 0.83485175 0.86185025\n",
      " 0.83064553 0.85869481 0.8288936  0.85904507 0.83029096 0.85939595\n",
      " 0.82363229 0.85869604 0.82468123 0.86044674 0.81907334 0.85799674\n",
      "        nan        nan 0.83800658 0.83800658 0.83555597 0.84537561\n",
      " 0.83204412 0.84501613 0.83379666 0.85063201 0.82819    0.84958184\n",
      " 0.83029158 0.85519157 0.83309982 0.85974867 0.83520386 0.86220235\n",
      " 0.82924325 0.85834393 0.83029281 0.85939595 0.82888746 0.85904569\n",
      " 0.82328018 0.85939779 0.82432974 0.85869481 0.8190715  0.85694473\n",
      "        nan        nan 0.82223308 0.82223308 0.83660368 0.84572403\n",
      " 0.81907457 0.83520324 0.83204904 0.84888254 0.82539036 0.84923219\n",
      " 0.82714474 0.85344087 0.82679079 0.85939779 0.82749439 0.8597499\n",
      " 0.82258641 0.85589087 0.82398685 0.85869788 0.82433343 0.85659262\n",
      " 0.82083203 0.85904876 0.82153132 0.85834701 0.81907518 0.85799736]\n",
      "  warnings.warn(\n"
     ]
    }
   ],
   "source": [
    "knn=KNeighborsClassifier()\n",
    "# number of neighbors\n",
    "n_neighbors = np.arange(15)\n",
    "# weights type\n",
    "weights = ['uniform', 'distance']\n",
    "# Algorithm used to compute the nearest neighbors\n",
    "algorithm = ['auto', 'ball_tree', 'kd_tree', 'brute']\n",
    "# create grid\n",
    "params = {\n",
    " 'KN_Classifier__n_neighbors': n_neighbors,\n",
    " 'KN_Classifier__weights': weights,\n",
    "    'KN_Classifier__algorithm': algorithm,\n",
    " }\n",
    "\n",
    "pipe = Pipeline([('scaler',StandardScaler()),('KN_Classifier', knn)])\n",
    "\n",
    "\n",
    "knn_grid = GridSearchCV(estimator = pipe, param_grid = params, cv = 5, verbose=2, scoring='accuracy',n_jobs = -1)\n",
    "\n",
    "knn_grid.fit(X_train, y_train)\n",
    "\n",
    "print(knn_grid.best_params_)"
   ]
  },
  {
   "cell_type": "code",
   "execution_count": 106,
   "id": "f6107e38",
   "metadata": {
    "scrolled": true
   },
   "outputs": [
    {
     "name": "stdout",
     "output_type": "stream",
     "text": [
      "Test_Accuracy: 0.8753501400560224\n"
     ]
    }
   ],
   "source": [
    "knn = KNeighborsClassifier(algorithm = \"auto\", n_neighbors = 8, weights = \"distance\")\n",
    "knn.fit(X_trainStandard,y_train)\n",
    "y_pred_knn = knn.predict(X_testStandard)\n",
    "print(\"Test_Accuracy:\", accuracy_score(y_test, y_pred_knn))\n",
    "accuracy[\"KNeighbors Classifier\"] = accuracy_score(y_test, y_pred_knn)"
   ]
  },
  {
   "cell_type": "code",
   "execution_count": 107,
   "id": "a8dd9d3b",
   "metadata": {},
   "outputs": [
    {
     "data": {
      "text/plain": [
       "array([[281,  59],\n",
       "       [ 30, 344]], dtype=int64)"
      ]
     },
     "execution_count": 107,
     "metadata": {},
     "output_type": "execute_result"
    }
   ],
   "source": [
    "confusion_matrix(y_pred_knn,y_test)"
   ]
  },
  {
   "cell_type": "code",
   "execution_count": 108,
   "id": "3dc056a7",
   "metadata": {
    "scrolled": false
   },
   "outputs": [
    {
     "name": "stdout",
     "output_type": "stream",
     "text": [
      "              precision    recall  f1-score   support\n",
      "\n",
      "           0       0.90      0.83      0.86       340\n",
      "           1       0.85      0.92      0.89       374\n",
      "\n",
      "    accuracy                           0.88       714\n",
      "   macro avg       0.88      0.87      0.87       714\n",
      "weighted avg       0.88      0.88      0.87       714\n",
      "\n"
     ]
    }
   ],
   "source": [
    "print(classification_report(y_pred_knn,y_test))"
   ]
  },
  {
   "cell_type": "markdown",
   "id": "36b4069e",
   "metadata": {},
   "source": [
    "### 5.2.3 Boosting Models & Tuning Their Parameters\n",
    "    Now instead of searching best model for Gradient Boost and Ada Boost algorithm we can search best model for both. Let's Try Gradient Boost and Ada Boost Algorithms in the same Grid Search CV."
   ]
  },
  {
   "cell_type": "code",
   "execution_count": 109,
   "id": "168f20b6",
   "metadata": {},
   "outputs": [],
   "source": [
    "from sklearn.ensemble import GradientBoostingClassifier\n",
    "from sklearn.ensemble import AdaBoostClassifier"
   ]
  },
  {
   "cell_type": "code",
   "execution_count": 110,
   "id": "ee1bbec5",
   "metadata": {},
   "outputs": [
    {
     "data": {
      "text/plain": [
       "GradientBoostingClassifier()"
      ]
     },
     "execution_count": 110,
     "metadata": {},
     "output_type": "execute_result"
    }
   ],
   "source": [
    "AdaBoostClassifier()\n",
    "GradientBoostingClassifier()"
   ]
  },
  {
   "cell_type": "code",
   "execution_count": 111,
   "id": "1d902571",
   "metadata": {},
   "outputs": [
    {
     "name": "stdout",
     "output_type": "stream",
     "text": [
      "Fitting 5 folds for each of 48 candidates, totalling 240 fits\n"
     ]
    },
    {
     "data": {
      "text/plain": [
       "GradientBoostingClassifier(n_estimators=1000, random_state=42)"
      ]
     },
     "execution_count": 111,
     "metadata": {},
     "output_type": "execute_result"
    }
   ],
   "source": [
    "pipe = Pipeline([(\"scaler\",StandardScaler()),(\"classifier\",GradientBoostingClassifier())])\n",
    "\n",
    "models = [{\"classifier\":[GradientBoostingClassifier(random_state=42)],\n",
    "          \"classifier__learning_rate\": [1, 0.1, 0.01],\n",
    "          \"classifier__max_depth\": [1, 2, 3],\n",
    "          \"classifier__n_estimators\": [100, 1000, 5000, 10000]},\n",
    "         {\"classifier\":[AdaBoostClassifier(random_state=42)],\n",
    "          \"classifier__learning_rate\": [1, 0.1, 0.01],\n",
    "          \"classifier__n_estimators\": [100, 1000, 5000, 10000]}]\n",
    "\n",
    "boosting_search =GridSearchCV(estimator=pipe, param_grid=models, scoring= \"accuracy\", cv=5, verbose= 2 , n_jobs= -1)\n",
    "grad_grid = boosting_search.fit(X_train,y_train)\n",
    "grad_grid.best_estimator_.get_params()[\"classifier\"]"
   ]
  },
  {
   "cell_type": "code",
   "execution_count": 112,
   "id": "18d5cd7d",
   "metadata": {},
   "outputs": [
    {
     "data": {
      "text/plain": [
       "{'classifier': GradientBoostingClassifier(n_estimators=1000, random_state=42),\n",
       " 'classifier__learning_rate': 0.1,\n",
       " 'classifier__max_depth': 3,\n",
       " 'classifier__n_estimators': 1000}"
      ]
     },
     "execution_count": 112,
     "metadata": {},
     "output_type": "execute_result"
    }
   ],
   "source": [
    "grad_grid.best_params_"
   ]
  },
  {
   "cell_type": "code",
   "execution_count": 113,
   "id": "68224ed0",
   "metadata": {},
   "outputs": [
    {
     "name": "stdout",
     "output_type": "stream",
     "text": [
      "Test_Score:  0.8851540616246498\n"
     ]
    }
   ],
   "source": [
    "gbc = GradientBoostingClassifier(random_state =42 ,learning_rate=0.1 , max_depth =3 , n_estimators = 1000)\n",
    "gbc.fit(X_trainStandard, y_train)\n",
    "y_pred_gbc = gbc.predict(X_testStandard)\n",
    "print(\"Test_Score: \", accuracy_score(y_test,y_pred_gbc))"
   ]
  },
  {
   "cell_type": "code",
   "execution_count": 114,
   "id": "c9a0c887",
   "metadata": {},
   "outputs": [
    {
     "data": {
      "text/plain": [
       "array([[290,  61],\n",
       "       [ 21, 342]], dtype=int64)"
      ]
     },
     "execution_count": 114,
     "metadata": {},
     "output_type": "execute_result"
    }
   ],
   "source": [
    "confusion_matrix(y_pred_gbc,y_test)"
   ]
  },
  {
   "cell_type": "code",
   "execution_count": 115,
   "id": "c18031df",
   "metadata": {},
   "outputs": [
    {
     "name": "stdout",
     "output_type": "stream",
     "text": [
      "              precision    recall  f1-score   support\n",
      "\n",
      "           0       0.93      0.83      0.88       351\n",
      "           1       0.85      0.94      0.89       363\n",
      "\n",
      "    accuracy                           0.89       714\n",
      "   macro avg       0.89      0.88      0.88       714\n",
      "weighted avg       0.89      0.89      0.88       714\n",
      "\n"
     ]
    }
   ],
   "source": [
    "print(classification_report(y_pred_gbc,y_test))"
   ]
  },
  {
   "cell_type": "code",
   "execution_count": 116,
   "id": "1cf7a49c",
   "metadata": {},
   "outputs": [],
   "source": [
    "accuracy[\"Gradient Boost Classifier\"] = accuracy_score(y_test,y_pred_gbc)"
   ]
  },
  {
   "cell_type": "markdown",
   "id": "2c6a4d59",
   "metadata": {},
   "source": [
    "We know that Gradient Boost out perform Ada Boost But in order to compare 2 results We build a seperate Ada Boost Model."
   ]
  },
  {
   "cell_type": "code",
   "execution_count": 117,
   "id": "e58e10f2",
   "metadata": {},
   "outputs": [
    {
     "name": "stdout",
     "output_type": "stream",
     "text": [
      "Fitting 5 folds for each of 12 candidates, totalling 60 fits\n"
     ]
    },
    {
     "data": {
      "text/plain": [
       "{'Ada_Boost_classifier__learning_rate': 1,\n",
       " 'Ada_Boost_classifier__n_estimators': 1000}"
      ]
     },
     "execution_count": 117,
     "metadata": {},
     "output_type": "execute_result"
    }
   ],
   "source": [
    "pipe = Pipeline([(\"scaler\",StandardScaler()),(\"Ada_Boost_classifier\",AdaBoostClassifier(random_state = 42))])\n",
    "\n",
    "models = {\"Ada_Boost_classifier__learning_rate\": [1, 0.1, 0.01],\n",
    "          \"Ada_Boost_classifier__n_estimators\": [100, 1000, 5000, 10000]}\n",
    "\n",
    "ada_search = GridSearchCV(estimator=pipe, param_grid=models, scoring= \"accuracy\", cv=5, verbose= 2 , n_jobs= -1)\n",
    "ada_grid = ada_search.fit(X_train,y_train)\n",
    "ada_grid.best_params_"
   ]
  },
  {
   "cell_type": "code",
   "execution_count": 118,
   "id": "50ae6c0b",
   "metadata": {},
   "outputs": [
    {
     "name": "stdout",
     "output_type": "stream",
     "text": [
      "Test_Score:  0.8529411764705882\n"
     ]
    }
   ],
   "source": [
    "abc = AdaBoostClassifier(learning_rate=1, random_state=42, n_estimators=1000)\n",
    "abc.fit(X_trainStandard,y_train)\n",
    "y_pred_abc = abc.predict(X_testStandard)\n",
    "print(\"Test_Score: \", accuracy_score(y_test,y_pred_abc))"
   ]
  },
  {
   "cell_type": "code",
   "execution_count": 119,
   "id": "a88c7143",
   "metadata": {},
   "outputs": [
    {
     "data": {
      "text/plain": [
       "array([[280,  31],\n",
       "       [ 74, 329]], dtype=int64)"
      ]
     },
     "execution_count": 119,
     "metadata": {},
     "output_type": "execute_result"
    }
   ],
   "source": [
    "confusion_matrix(y_test,y_pred_abc)"
   ]
  },
  {
   "cell_type": "code",
   "execution_count": 120,
   "id": "9accfb88",
   "metadata": {},
   "outputs": [
    {
     "name": "stdout",
     "output_type": "stream",
     "text": [
      "              precision    recall  f1-score   support\n",
      "\n",
      "           0       0.79      0.90      0.84       311\n",
      "           1       0.91      0.82      0.86       403\n",
      "\n",
      "    accuracy                           0.85       714\n",
      "   macro avg       0.85      0.86      0.85       714\n",
      "weighted avg       0.86      0.85      0.85       714\n",
      "\n"
     ]
    }
   ],
   "source": [
    "print(classification_report(y_test,y_pred_abc))"
   ]
  },
  {
   "cell_type": "code",
   "execution_count": 121,
   "id": "d7ee93e4",
   "metadata": {},
   "outputs": [],
   "source": [
    "accuracy[\"Ada Boost Classifier\"] = accuracy_score(y_test,y_pred_abc)"
   ]
  },
  {
   "cell_type": "code",
   "execution_count": 122,
   "id": "5622d6e1",
   "metadata": {
    "scrolled": true
   },
   "outputs": [
    {
     "data": {
      "text/plain": [
       "({'KN_Classifier__algorithm': 'auto',\n",
       "  'KN_Classifier__n_neighbors': 8,\n",
       "  'KN_Classifier__weights': 'distance'},\n",
       " {'Random_Forest__max_features': 9, 'Random_Forest__n_estimators': 600},\n",
       " {'classifier': GradientBoostingClassifier(n_estimators=1000, random_state=42),\n",
       "  'classifier__learning_rate': 0.1,\n",
       "  'classifier__max_depth': 3,\n",
       "  'classifier__n_estimators': 1000},\n",
       " {'Ada_Boost_classifier__learning_rate': 1,\n",
       "  'Ada_Boost_classifier__n_estimators': 1000})"
      ]
     },
     "execution_count": 122,
     "metadata": {},
     "output_type": "execute_result"
    }
   ],
   "source": [
    "knn_grid.best_params_,rfc_grid.best_params_,grad_grid.best_params_,ada_grid.best_params_"
   ]
  },
  {
   "cell_type": "markdown",
   "id": "d5cdb59d",
   "metadata": {},
   "source": [
    "**Now let's merge all the best parameters and put it in a data frame**"
   ]
  },
  {
   "cell_type": "code",
   "execution_count": 123,
   "id": "f8fff505",
   "metadata": {
    "scrolled": false
   },
   "outputs": [],
   "source": [
    "best_params_for_each_model = {**knn_grid.best_params_,**rfc_grid.best_params_,**grad_grid.best_params_,**ada_grid.best_params_}"
   ]
  },
  {
   "cell_type": "code",
   "execution_count": 124,
   "id": "b197d9fc",
   "metadata": {},
   "outputs": [],
   "source": [
    "best_param_df = pd.DataFrame.from_dict(best_params_for_each_model, orient =\"index\")\n",
    "best_param_df.set_axis([\"Values\"],axis=\"columns\",inplace=True)"
   ]
  },
  {
   "cell_type": "code",
   "execution_count": 125,
   "id": "c74549e5",
   "metadata": {},
   "outputs": [],
   "source": [
    "best_param_df.set_axis([\"KN_Classifier Algorithm\",\"KN_Classifier n_neighbors\",\"KN_Classifier Weights\", \n",
    "                        \"Random_Forest Max_features\", \"Random_Forest n_estimators\", \"Classifier\",\n",
    "                       \"Gradient Boost Learning Rate\", \"Gradient Boost Max_depth\", \"Gradient Boost n_estimators\",\n",
    "                       \"Ada Boost Learning Rate\",\"Ada Boost n_estimators\"],axis=\"index\",inplace=True)"
   ]
  },
  {
   "cell_type": "code",
   "execution_count": 126,
   "id": "8a335bbd",
   "metadata": {},
   "outputs": [],
   "source": [
    "best_param_df.drop(\"Classifier\", inplace=True)"
   ]
  },
  {
   "cell_type": "code",
   "execution_count": 127,
   "id": "7dfcffb3",
   "metadata": {},
   "outputs": [
    {
     "data": {
      "text/html": [
       "<div>\n",
       "<style scoped>\n",
       "    .dataframe tbody tr th:only-of-type {\n",
       "        vertical-align: middle;\n",
       "    }\n",
       "\n",
       "    .dataframe tbody tr th {\n",
       "        vertical-align: top;\n",
       "    }\n",
       "\n",
       "    .dataframe thead th {\n",
       "        text-align: right;\n",
       "    }\n",
       "</style>\n",
       "<table border=\"1\" class=\"dataframe\">\n",
       "  <thead>\n",
       "    <tr style=\"text-align: right;\">\n",
       "      <th></th>\n",
       "      <th>Values</th>\n",
       "    </tr>\n",
       "  </thead>\n",
       "  <tbody>\n",
       "    <tr>\n",
       "      <th>KN_Classifier Algorithm</th>\n",
       "      <td>auto</td>\n",
       "    </tr>\n",
       "    <tr>\n",
       "      <th>KN_Classifier n_neighbors</th>\n",
       "      <td>8</td>\n",
       "    </tr>\n",
       "    <tr>\n",
       "      <th>KN_Classifier Weights</th>\n",
       "      <td>distance</td>\n",
       "    </tr>\n",
       "    <tr>\n",
       "      <th>Random_Forest Max_features</th>\n",
       "      <td>9</td>\n",
       "    </tr>\n",
       "    <tr>\n",
       "      <th>Random_Forest n_estimators</th>\n",
       "      <td>600</td>\n",
       "    </tr>\n",
       "    <tr>\n",
       "      <th>Gradient Boost Learning Rate</th>\n",
       "      <td>0.1</td>\n",
       "    </tr>\n",
       "    <tr>\n",
       "      <th>Gradient Boost Max_depth</th>\n",
       "      <td>3</td>\n",
       "    </tr>\n",
       "    <tr>\n",
       "      <th>Gradient Boost n_estimators</th>\n",
       "      <td>1000</td>\n",
       "    </tr>\n",
       "    <tr>\n",
       "      <th>Ada Boost Learning Rate</th>\n",
       "      <td>1</td>\n",
       "    </tr>\n",
       "    <tr>\n",
       "      <th>Ada Boost n_estimators</th>\n",
       "      <td>1000</td>\n",
       "    </tr>\n",
       "  </tbody>\n",
       "</table>\n",
       "</div>"
      ],
      "text/plain": [
       "                                Values\n",
       "KN_Classifier Algorithm           auto\n",
       "KN_Classifier n_neighbors            8\n",
       "KN_Classifier Weights         distance\n",
       "Random_Forest Max_features           9\n",
       "Random_Forest n_estimators         600\n",
       "Gradient Boost Learning Rate       0.1\n",
       "Gradient Boost Max_depth             3\n",
       "Gradient Boost n_estimators       1000\n",
       "Ada Boost Learning Rate              1\n",
       "Ada Boost n_estimators            1000"
      ]
     },
     "execution_count": 127,
     "metadata": {},
     "output_type": "execute_result"
    }
   ],
   "source": [
    "best_param_df"
   ]
  },
  {
   "cell_type": "code",
   "execution_count": 128,
   "id": "9cc2515d",
   "metadata": {},
   "outputs": [],
   "source": [
    "accuracy_df = pd.DataFrame.from_dict(accuracy, orient=\"index\")"
   ]
  },
  {
   "cell_type": "code",
   "execution_count": 129,
   "id": "e9ee1dd6",
   "metadata": {
    "scrolled": true
   },
   "outputs": [],
   "source": [
    "accuracy_df.set_axis([\"Accuracy\"],axis=\"columns\",inplace=True)"
   ]
  },
  {
   "cell_type": "code",
   "execution_count": 130,
   "id": "1483fd8d",
   "metadata": {},
   "outputs": [
    {
     "data": {
      "text/html": [
       "<div>\n",
       "<style scoped>\n",
       "    .dataframe tbody tr th:only-of-type {\n",
       "        vertical-align: middle;\n",
       "    }\n",
       "\n",
       "    .dataframe tbody tr th {\n",
       "        vertical-align: top;\n",
       "    }\n",
       "\n",
       "    .dataframe thead th {\n",
       "        text-align: right;\n",
       "    }\n",
       "</style>\n",
       "<table border=\"1\" class=\"dataframe\">\n",
       "  <thead>\n",
       "    <tr style=\"text-align: right;\">\n",
       "      <th></th>\n",
       "      <th>Accuracy</th>\n",
       "    </tr>\n",
       "  </thead>\n",
       "  <tbody>\n",
       "    <tr>\n",
       "      <th>Random Forest Classifier</th>\n",
       "      <td>0.894958</td>\n",
       "    </tr>\n",
       "    <tr>\n",
       "      <th>KNeighbors Classifier</th>\n",
       "      <td>0.875350</td>\n",
       "    </tr>\n",
       "    <tr>\n",
       "      <th>Gradient Boost Classifier</th>\n",
       "      <td>0.885154</td>\n",
       "    </tr>\n",
       "    <tr>\n",
       "      <th>Ada Boost Classifier</th>\n",
       "      <td>0.852941</td>\n",
       "    </tr>\n",
       "  </tbody>\n",
       "</table>\n",
       "</div>"
      ],
      "text/plain": [
       "                           Accuracy\n",
       "Random Forest Classifier   0.894958\n",
       "KNeighbors Classifier      0.875350\n",
       "Gradient Boost Classifier  0.885154\n",
       "Ada Boost Classifier       0.852941"
      ]
     },
     "execution_count": 130,
     "metadata": {},
     "output_type": "execute_result"
    }
   ],
   "source": [
    "accuracy_df"
   ]
  },
  {
   "cell_type": "code",
   "execution_count": 131,
   "id": "15a65f1a",
   "metadata": {
    "scrolled": false
   },
   "outputs": [
    {
     "data": {
      "image/png": "[encoded data removed]",
      "text/plain": [
       "<Figure size 396x264 with 1 Axes>"
      ]
     },
     "metadata": {
      "needs_background": "light"
     },
     "output_type": "display_data"
    }
   ],
   "source": [
    "plt.figure(dpi=66)\n",
    "\n",
    "plt.bar(accuracy_df.index,accuracy_df[\"Accuracy\"])\n",
    "plt.xticks(rotation=90)\n",
    "plt.title(\"Models\")\n",
    "plt.ylabel(\"Accuracy\")\n",
    "plt.show()"
   ]
  },
  {
   "cell_type": "markdown",
   "id": "fa6ffaf7",
   "metadata": {},
   "source": [
    "## SUMMARY\n",
    "    According to our all models, best performing model is Random Forest Classifier with 0.89 accuracy rate."
   ]
  }
 ],
 "metadata": {
  "colab": {
   "name": "Collage Placement.ipynb",
   "provenance": []
  },
  "kernelspec": {
   "display_name": "Python 3",
   "language": "python",
   "name": "python3"
  },
  "language_info": {
   "codemirror_mode": {
    "name": "ipython",
    "version": 3
   },
   "file_extension": ".py",
   "mimetype": "text/x-python",
   "name": "python",
   "nbconvert_exporter": "python",
   "pygments_lexer": "ipython3",
   "version": "3.8.8"
  },
  "varInspector": {
   "cols": {
    "lenName": 16,
    "lenType": 16,
    "lenVar": 40
   },
   "kernels_config": {
    "python": {
     "delete_cmd_postfix": "",
     "delete_cmd_prefix": "del ",
     "library": "var_list.py",
     "varRefreshCmd": "print(var_dic_list())"
    },
    "r": {
     "delete_cmd_postfix": ") ",
     "delete_cmd_prefix": "rm(",
     "library": "var_list.r",
     "varRefreshCmd": "cat(var_dic_list()) "
    }
   },
   "position": {
    "height": "327.4px",
    "left": "1155.2px",
    "right": "20px",
    "top": "119px",
    "width": "370px"
   },
   "types_to_exclude": [
    "module",
    "function",
    "builtin_function_or_method",
    "instance",
    "_Feature"
   ],
   "window_display": false
  }
 },
 "nbformat": 4,
 "nbformat_minor": 5
}
